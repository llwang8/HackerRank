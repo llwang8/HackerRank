{
 "cells": [
  {
   "cell_type": "markdown",
   "metadata": {},
   "source": [
    "# HackerRank\n",
    "## Practice\n"
   ]
  },
  {
   "cell_type": "markdown",
   "metadata": {},
   "source": [
    "### Intruduction"
   ]
  },
  {
   "cell_type": "code",
   "execution_count": null,
   "metadata": {
    "collapsed": true
   },
   "outputs": [],
   "source": [
    "# Task \n",
    "# Given an integer, , perform the following conditional actions:\n",
    "# If  is odd, print Weird\n",
    "# If  is even and in the inclusive range of  to , print Not Weird\n",
    "# If  is even and in the inclusive range of  to , print Weird\n",
    "# If  is even and greater than , print Not Weird\n",
    "if __name__ == '__main__':\n",
    "    n = int(raw_input())\n",
    "    if n % 2 != 0:\n",
    "        print('Weird')\n",
    "    else:\n",
    "        if n > 20:\n",
    "            print('Not Weird')\n",
    "        elif n >=6:\n",
    "            print('Weird')\n",
    "        elif n >=2:\n",
    "            print('Not Weird')"
   ]
  },
  {
   "cell_type": "code",
   "execution_count": null,
   "metadata": {
    "collapsed": true
   },
   "outputs": [],
   "source": [
    "# Task \n",
    "# Read an integer . For all non-negative integers , print . See the sample for details.\n",
    "if __name__ == '__main__':\n",
    "    n = int(raw_input())\n",
    "    for i in range(n):\n",
    "        print i ** 2\n"
   ]
  },
  {
   "cell_type": "code",
   "execution_count": null,
   "metadata": {
    "collapsed": true
   },
   "outputs": [],
   "source": [
    "# Task \n",
    "# Read two integers and print two lines. The first line should contain integer division,  // . \n",
    "# The second line should contain float division,  / .\n",
    "from __future__ import division\n",
    "if __name__ == '__main__':\n",
    "    a = int(raw_input())\n",
    "    b = int(raw_input())\n",
    "    print a // b\n",
    "    print a / b\n",
    "    "
   ]
  },
  {
   "cell_type": "code",
   "execution_count": null,
   "metadata": {
    "collapsed": true
   },
   "outputs": [],
   "source": [
    "# Task \n",
    "# You are given the year, and you have to write a function to check if the year is leap or not.\n",
    "# Note that you have to complete the function and remaining code is given as template.\n",
    "# The year can be evenly divided by 4, unless;\n",
    "# The year can be evenly divided by 100, it is NOT a leap year, unless;\n",
    "# The year is also evenly divisible by 400. Then it is a leap year.\n",
    "\n",
    "def is_leap(year):\n",
    "    leap = False\n",
    "    \n",
    "    # Write your logic here\n",
    "    #print(year % 4 == 0) \n",
    "    #print(year % 400 == 0)\n",
    "    if (year % 4 == 0) & (year % 100 != 0):\n",
    "        leap = True\n",
    "    if (year % 400 == 0):\n",
    "        leap = True\n",
    "   \n",
    "    return leap\n",
    "\n",
    "#print('self test')\n",
    "#print is_leap(2100)\n",
    "#print('-----')"
   ]
  },
  {
   "cell_type": "code",
   "execution_count": null,
   "metadata": {
    "collapsed": true
   },
   "outputs": [],
   "source": [
    "# Read an integer N\n",
    "# Without using any string methods, try to print the following: 123...N\n",
    "\n",
    "from __future__ import print_function\n",
    "if __name__ == '__main__':\n",
    "    n = int(raw_input())\n",
    "    alist = []\n",
    "    for i in xrange(n):\n",
    "        alist.append(i)\n",
    "    #print(*alist, sep='', file=sys.stdout)\n",
    "    print(*alist, sep='', end='\\n', file=sys.stdout)\n"
   ]
  },
  {
   "cell_type": "markdown",
   "metadata": {},
   "source": [
    "### Data Types"
   ]
  },
  {
   "cell_type": "code",
   "execution_count": null,
   "metadata": {
    "collapsed": true
   },
   "outputs": [],
   "source": [
    "# Lists\n",
    "# Initialize your list and read in the value of  followed by n lines of commands where each command will be of the  \n",
    "# 7 types listed above. Iterate through each command in order and perform the corresponding operation on your list.\n"
   ]
  },
  {
   "cell_type": "code",
   "execution_count": null,
   "metadata": {
    "collapsed": true
   },
   "outputs": [],
   "source": [
    "# Tuples\n",
    "# Given an integer N and  space-separated integers as input, create a tuple t of those  integers. \n",
    "# Then compute and print the result of hash(t).\n",
    "if __name__ == '__main__':\n",
    "    n = int(raw_input())\n",
    "    integer_list = map(int, raw_input().split())\n",
    "    t = tuple(integer_list)\n",
    "    print(hash(t))"
   ]
  },
  {
   "cell_type": "code",
   "execution_count": null,
   "metadata": {
    "collapsed": true
   },
   "outputs": [],
   "source": [
    "# List Comprehensions\n",
    "# You are given three integers X, Y, Z  and  representing the dimensions of a cuboid along with an integer N. \n",
    "# You have to print a list of all possible coordinates given by (i, j, k) on a 3D grid where the sum of i+j+k \n",
    "# is not equal to N. Here 0<=i<=X, 0<=j<=Y, 0<=k<=Z, \n",
    "if __name__ == '__main__':\n",
    "    x = int(raw_input())\n",
    "    y = int(raw_input())\n",
    "    z = int(raw_input())\n",
    "    n = int(raw_input())\n",
    "    print [[i, j, k] for i in range(x+1) for j in range(y+1) for k in range(z+1) if ((i+j+k) != n)]"
   ]
  },
  {
   "cell_type": "code",
   "execution_count": null,
   "metadata": {
    "collapsed": true
   },
   "outputs": [],
   "source": [
    "# Find the second largest number\n",
    "# You are given N numbers. Store them in a list and find the second largest number.\n",
    "if __name__ == '__main__':\n",
    "    n = int(raw_input())\n",
    "    arr = map(int, raw_input().split())\n",
    "    found = False\n",
    "    while not found:\n",
    "        max1 = max(arr)\n",
    "        arr.remove(max1)\n",
    "        #print arr\n",
    "        max2 = max(arr)\n",
    "        if max2 != max1:\n",
    "            found = True\n",
    "    print max2"
   ]
  },
  {
   "cell_type": "code",
   "execution_count": null,
   "metadata": {
    "collapsed": true
   },
   "outputs": [],
   "source": [
    "# Nested List"
   ]
  },
  {
   "cell_type": "code",
   "execution_count": null,
   "metadata": {
    "collapsed": true
   },
   "outputs": [],
   "source": [
    "# Finding the percentage\n"
   ]
  }
 ],
 "metadata": {
  "anaconda-cloud": {},
  "kernelspec": {
   "display_name": "Python [default]",
   "language": "python",
   "name": "python2"
  },
  "language_info": {
   "codemirror_mode": {
    "name": "ipython",
    "version": 2
   },
   "file_extension": ".py",
   "mimetype": "text/x-python",
   "name": "python",
   "nbconvert_exporter": "python",
   "pygments_lexer": "ipython2",
   "version": "2.7.12"
  }
 },
 "nbformat": 4,
 "nbformat_minor": 1
}
