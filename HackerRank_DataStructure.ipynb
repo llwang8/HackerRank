{
 "cells": [
  {
   "cell_type": "markdown",
   "metadata": {},
   "source": [
    "# HackerRank\n",
    "## Data Structure\n"
   ]
  },
  {
   "cell_type": "markdown",
   "metadata": {},
   "source": [
    "### Array"
   ]
  },
  {
   "cell_type": "code",
   "execution_count": null,
   "metadata": {
    "collapsed": true
   },
   "outputs": [],
   "source": [
    "# Array - DS\n",
    "#!/bin/python\n",
    "import sys\n",
    "\n",
    "n = int(raw_input().strip())\n",
    "arr = map(int,raw_input().strip().split(' '))\n",
    "\n",
    "print ' '.join(map(str, arr[::-1]))"
   ]
  },
  {
   "cell_type": "code",
   "execution_count": null,
   "metadata": {
    "collapsed": true
   },
   "outputs": [],
   "source": [
    "# 2D Array - DS\n",
    "import sys\n",
    "\n",
    "arr = []\n",
    "hglass_totals = []\n",
    "for arr_i in xrange(6):\n",
    "    arr_temp = map(int,raw_input().strip().split(' '))\n",
    "    arr.append(arr_temp)\n",
    "\n",
    "for i in xrange(4):\n",
    "    for j in xrange(4):\n",
    "        temp = [arr[i][k] for k in range(j, j+3)]\n",
    "        temp.append(arr[i+1][j+1])\n",
    "        temp = temp + [arr[i+2][k] for k in range(j, j+3)]\n",
    "        hglass_totals.append(sum(temp))\n",
    "\n",
    "print max(hglass_totals)\n",
    "\n",
    "# another solution\n",
    "import sys\n",
    "\n",
    "arr = []\n",
    "hglass_totals = []\n",
    "for arr_i in xrange(6):\n",
    "    arr_temp = map(int,raw_input().strip().split(' '))\n",
    "    arr.append(arr_temp)\n",
    "    \n",
    "hglass_totals = [sum(arr[i][j:j+3] + [arr[i+1][j+1]] + arr[i+2][j:j+3]) for i in xrange(4) for j in xrange(4)]\n",
    "print max(hglass_totals)"
   ]
  },
  {
   "cell_type": "code",
   "execution_count": null,
   "metadata": {
    "collapsed": true
   },
   "outputs": [],
   "source": [
    "# Dynamic Array\n",
    "n, m = map(int, raw_input().split())\n",
    "seqList = [[] for i in range(n)]\n",
    "lastAnswer = 0\n",
    "for _ in range(m):\n",
    "    query, x, y = map(int, raw_input().split())\n",
    "    index = (x^lastAnswer)%n   \n",
    "    \n",
    "    if query == 1:\n",
    "        seqList[index].append(y)\n",
    "    else:\n",
    "        idx = y%(len(seqList[index]))\n",
    "        lastAnswer = seqList[index][idx]\n",
    "        print lastAnswer\n",
    "        \n",
    "    #print index, seqList\n"
   ]
  },
  {
   "cell_type": "code",
   "execution_count": null,
   "metadata": {
    "collapsed": true
   },
   "outputs": [],
   "source": [
    "# Left Rotation\n",
    "import sys\n",
    "\n",
    "def leftRotation(arr, d):\n",
    "    return arr[d:] + arr[0:d]\n",
    "    \n",
    "if __name__ == \"__main__\":\n",
    "    n, d = map(int, raw_input().strip().split(' '))\n",
    "    arr = map(int, raw_input().strip().split(' '))\n",
    "    result = leftRotation(arr, d)\n",
    "    print \" \".join(map(str, result))"
   ]
  },
  {
   "cell_type": "code",
   "execution_count": null,
   "metadata": {
    "collapsed": true
   },
   "outputs": [],
   "source": [
    "# sparse Arrays\n",
    "n = int(raw_input())\n",
    "collection = [raw_input() for _ in range(n)]\n",
    "q = int(raw_input())\n",
    "for _ in range(q):\n",
    "    count = 0\n",
    "    query = raw_input()\n",
    "    for item in collection:\n",
    "        if item == query:\n",
    "            count += 1\n",
    "    print count"
   ]
  },
  {
   "cell_type": "code",
   "execution_count": null,
   "metadata": {
    "collapsed": true
   },
   "outputs": [],
   "source": [
    "# Algorithmic Crush\n",
    "\n",
    "# 1st attempt\n",
    "import sys\n",
    "if __name__ == \"__main__\":\n",
    "    n, m = map(int, raw_input().strip().split(' '))\n",
    "    arr = [0 for _ in range(n)]\n",
    "    for _ in xrange(m):\n",
    "        a, b, k = map(int, raw_input().strip().split(' '))     \n",
    "        j = b + 1 if b < n else b\n",
    "        for i in range(a, j):\n",
    "            arr[i] += k\n",
    "            \n",
    "    print max(arr)\n",
    "    \n",
    "# anther solution\n",
    "import sys\n",
    "from itertools import accumulate\n",
    "\n",
    "if __name__ == \"__main__\":\n",
    "    n, m = map(int, raw_input().strip().split(' '))\n",
    "    arr = [0] * (n+1)\n",
    "    for _ in xrange(m):\n",
    "        a, b, k = map(int, raw_input().strip().split(' '))   \n",
    "\n",
    "        arr[a-1] += k\n",
    "        arr[b] -= k\n",
    "        \n",
    "    print max(list(accumulate(arr)))\n",
    "\n",
    "# 3rd solution\n",
    "import sys\n",
    "\n",
    "if __name__ == \"__main__\":\n",
    "    n, m = map(int, raw_input().strip().split(' '))\n",
    "    arr = [0] * (n)\n",
    "\n",
    "    for _ in xrange(m):\n",
    "        a, b, k = map(int, raw_input().strip().split(' '))   \n",
    "        \n",
    "        arr[a-1] += k \n",
    "        if b < n:\n",
    "            arr[b] -= k \n",
    "    \n",
    "    print arr    \n",
    "    max = t = 0\n",
    "    for item in arr:\n",
    "        t += item\n",
    "        if max < t:\n",
    "            max = t\n",
    "        \n",
    "    print max"
   ]
  },
  {
   "cell_type": "markdown",
   "metadata": {},
   "source": [
    "### Linked Lists"
   ]
  },
  {
   "cell_type": "code",
   "execution_count": null,
   "metadata": {
    "collapsed": true
   },
   "outputs": [],
   "source": [
    "# Printed elements of linked list\n",
    "\"\"\"\n",
    " Print elements of a linked list on console\n",
    " head input could be None as well for empty list\n",
    " Node is defined as\n",
    " \n",
    " class Node(object):\n",
    " \n",
    "   def __init__(self, data=None, next_node=None):\n",
    "       self.data = data\n",
    "       self.next = next_node\n",
    " \n",
    " \n",
    "\"\"\"\n",
    "def print_list(head):\n",
    "    node = head\n",
    "    while node:\n",
    "        print node.data\n",
    "        node = node.next"
   ]
  },
  {
   "cell_type": "code",
   "execution_count": null,
   "metadata": {
    "collapsed": true
   },
   "outputs": [],
   "source": [
    "# Insert a node at the tail of the linked list\n",
    "\"\"\"\n",
    " Insert Node at the end of a linked list \n",
    " head pointer input could be None as well for empty list\n",
    " Node is defined as\n",
    " \n",
    " class Node(object):\n",
    " \n",
    "   def __init__(self, data=None, next_node=None):\n",
    "       self.data = data\n",
    "       self.next = next_node\n",
    " \n",
    " return back the head of the linked list in the below method\n",
    "\"\"\"\n",
    "\n",
    "def Insert(head, data):\n",
    "    if head:\n",
    "        node = head\n",
    "        while node.next:\n",
    "            node = node.next\n",
    "        node.next = Node(data, None)\n",
    "        return head\n",
    "    else:\n",
    "        return Node(data, None)\n",
    "\n",
    "# recursive solution\n",
    "def Insert(head, data):\n",
    "    if head:\n",
    "        if head.next:\n",
    "            Insert(head.next, data)\n",
    "        else:\n",
    "            head.next = Node(data, None)\n",
    "        return head\n",
    "    else:\n",
    "        return Node(data, None)"
   ]
  },
  {
   "cell_type": "code",
   "execution_count": null,
   "metadata": {
    "collapsed": true
   },
   "outputs": [],
   "source": [
    "# Insert a node at the head of the linked list\n",
    "\"\"\"\n",
    " Insert Node at the begining of a linked list\n",
    " head input could be None as well for empty list\n",
    " Node is defined as\n",
    " \n",
    " class Node(object):\n",
    " \n",
    "   def __init__(self, data=None, next_node=None):\n",
    "       self.data = data\n",
    "       self.next = next_node\n",
    "\n",
    " return back the head of the linked list in the below method. \n",
    "\"\"\"\n",
    "\n",
    "def Insert(head, data):\n",
    "    if head:\n",
    "        return Node(data, head)\n",
    "    else:\n",
    "        return Node(data, None)"
   ]
  },
  {
   "cell_type": "code",
   "execution_count": null,
   "metadata": {
    "collapsed": true
   },
   "outputs": [],
   "source": [
    "# Insert a node at any location of the linked list\n",
    "\"\"\"\n",
    " Insert Node at a specific position in a linked list\n",
    " head input could be None as well for empty list\n",
    " Node is defined as\n",
    " \n",
    " class Node(object):\n",
    " \n",
    "   def __init__(self, data=None, next_node=None):\n",
    "       self.data = data\n",
    "       self.next = next_node\n",
    "\n",
    " return back the head of the linked list in the below method. \n",
    "\"\"\"    \n",
    "# 2nd attempt\n",
    "def InsertNth(head, data, position):\n",
    "    if position == 0:\n",
    "        return Node(data, head) \n",
    "    i = 1\n",
    "    node = head\n",
    "    while i < position:\n",
    "        pre = node\n",
    "        node = node.next\n",
    "        i += 1\n",
    "    node.next = Node(data, node.next)\n",
    "    return head"
   ]
  },
  {
   "cell_type": "code",
   "execution_count": null,
   "metadata": {
    "collapsed": true
   },
   "outputs": [],
   "source": [
    "# Delete a node\n",
    "\"\"\"\n",
    " Delete Node at a given position in a linked list\n",
    " Node is defined as\n",
    " \n",
    " class Node(object):\n",
    " \n",
    "   def __init__(self, data=None, next_node=None):\n",
    "       self.data = data\n",
    "       self.next = next_node\n",
    "\n",
    " return back the head of the linked list in the below method. \n",
    "\"\"\"\n",
    "\n",
    "def Delete(head, position):\n",
    "    if position == 0:\n",
    "        return head.next \n",
    "    i = 1\n",
    "    node = head\n",
    "    while i < position:\n",
    "        node = node.next\n",
    "        i += 1\n",
    "    node.next = node.next.next\n",
    "    return head"
   ]
  },
  {
   "cell_type": "code",
   "execution_count": null,
   "metadata": {
    "collapsed": true
   },
   "outputs": [],
   "source": [
    "# Print in reverse\n",
    "\"\"\"\n",
    " Print elements of a linked list in reverse order as standard output\n",
    " head could be None as well for empty list\n",
    " Node is defined as\n",
    " \n",
    " class Node(object):\n",
    " \n",
    "   def __init__(self, data=None, next_node=None):\n",
    "       self.data = data\n",
    "       self.next = next_node\n",
    "\"\"\"\n",
    "def ReversePrint(head):\n",
    "    if head:\n",
    "        ReversePrint(head.next)\n",
    "        print head.data"
   ]
  },
  {
   "cell_type": "code",
   "execution_count": null,
   "metadata": {
    "collapsed": true
   },
   "outputs": [],
   "source": [
    "# Reverse a linked list\n",
    "\"\"\"\n",
    " Reverse a linked list\n",
    " head could be None as well for empty list\n",
    " Node is defined as\n",
    " \n",
    " class Node(object):\n",
    " \n",
    "   def __init__(self, data=None, next_node=None):\n",
    "       self.data = data\n",
    "       self.next = next_node\n",
    "\n",
    " return back the head of the linked list in the below method.\n",
    "\"\"\"\n",
    "\n",
    "def Reverse(head):\n",
    "    if head:\n",
    "        node = head.next\n",
    "        head.next = None\n",
    "        pre = head\n",
    "        while node.next:\n",
    "            temp = node.next\n",
    "            node.next = pre\n",
    "            pre = node\n",
    "            node = temp\n",
    "        node.next = pre\n",
    "        return node           \n",
    "    else:\n",
    "        return head"
   ]
  },
  {
   "cell_type": "code",
   "execution_count": null,
   "metadata": {
    "collapsed": true
   },
   "outputs": [],
   "source": [
    "# Compare two linked list\n",
    "\"\"\"\n",
    " Reverse a linked list\n",
    " head could be None as well for empty list\n",
    " Node is defined as\n",
    " \n",
    " class Node(object):\n",
    " \n",
    "   def __init__(self, data=None, next_node=None):\n",
    "       self.data = data\n",
    "       self.next = next_node\n",
    "\n",
    " return back the head of the linked list in the below method.\n",
    "\"\"\"\n",
    "# 1st attempt\n",
    "def Reverse(head):\n",
    "    if head:\n",
    "        node = head.next\n",
    "        head.next = None\n",
    "        pre = head\n",
    "        while node.next:\n",
    "            temp = node.next\n",
    "            node.next = pre\n",
    "            pre = node\n",
    "            node = temp\n",
    "        node.next = pre\n",
    "        return node           \n",
    "    else:\n",
    "        return head\n",
    "    \n",
    "# 2nd attempt\n",
    "\"\"\"\n",
    " Reverse a linked list\n",
    " head could be None as well for empty list\n",
    " Node is defined as\n",
    " \n",
    " class Node(object):\n",
    " \n",
    "   def __init__(self, data=None, next_node=None):\n",
    "       self.data = data\n",
    "       self.next = next_node\n",
    "\n",
    " return back the head of the linked list in the below method.\n",
    "\"\"\"\n",
    "\n",
    "def Reverse(head):\n",
    "    if head == None or head.next == None:\n",
    "        return head\n",
    "    else:\n",
    "        remaining = Reverse(head.next)\n",
    "        head.next.next = head\n",
    "        head.next = None\n",
    "        return remaining"
   ]
  },
  {
   "cell_type": "code",
   "execution_count": null,
   "metadata": {
    "collapsed": true
   },
   "outputs": [],
   "source": [
    "# Merge two linked list\n",
    "#Body\n",
    "\"\"\"\n",
    " Compare two linked list\n",
    " head could be None as well for empty list\n",
    " Node is defined as\n",
    " \n",
    " class Node(object):\n",
    " \n",
    "   def __init__(self, data=None, next_node=None):\n",
    "       self.data = data\n",
    "       self.next = next_node\n",
    "\n",
    " return back the head of the linked list in the below method.\n",
    "\"\"\"\n",
    "\n",
    "def CompareLists(headA, headB):\n",
    "    nodeA = headA\n",
    "    nodeB = headB\n",
    "    \n",
    "    if nodeA == nodeB == None:\n",
    "        return 0\n",
    "    \n",
    "    while nodeA and nodeB:\n",
    "        if nodeA.data != nodeB.data:\n",
    "            return 0\n",
    "        else:\n",
    "            nodeA = nodeA.next\n",
    "            nodeB = nodeB.next\n",
    "            \n",
    "    if nodeA or nodeB:\n",
    "        return 0\n",
    "    else:\n",
    "        return 1"
   ]
  },
  {
   "cell_type": "code",
   "execution_count": null,
   "metadata": {
    "collapsed": true
   },
   "outputs": [],
   "source": [
    "\"\"\"\n",
    " Merge two linked lists\n",
    " head could be None as well for empty list\n",
    " Node is defined as\n",
    " \n",
    " class Node(object):\n",
    " \n",
    "   def __init__(self, data=None, next_node=None):\n",
    "       self.data = data\n",
    "       self.next = next_node\n",
    "\n",
    " return back the head of the linked list in the below method.\n",
    "\"\"\"\n",
    "def MergeLists(headA, headB):\n",
    "    if headA == None:\n",
    "        return headB\n",
    "    if headB == None:\n",
    "        return headA \n",
    "    \n",
    "    if headA.data <= headB.data:\n",
    "        headA.next = MergeLists(headA.next, headB)\n",
    "        return headA\n",
    "    else:\n",
    "        headB.next = MergeLists(headA, headB.next)\n",
    "        return headB\n",
    "    \n",
    "# 2nd attempt\n"
   ]
  },
  {
   "cell_type": "code",
   "execution_count": null,
   "metadata": {
    "collapsed": true
   },
   "outputs": [],
   "source": [
    "# Get node value\n",
    "\"\"\"\n",
    " Get Node data of the Nth Node from the end.\n",
    " head could be None as well for empty list\n",
    " Node is defined as\n",
    " \n",
    " class Node(object):\n",
    " \n",
    "   def __init__(self, data=None, next_node=None):\n",
    "       self.data = data\n",
    "       self.next = next_node\n",
    "\n",
    " return back the node data of the linked list in the below method.\n",
    "\"\"\"\n",
    "\n",
    "def GetNode(head, position):\n",
    "    result = head\n",
    "    len = 0\n",
    "    while head:\n",
    "        if len > position:\n",
    "            result = result.next\n",
    "        len += 1\n",
    "        head = head.next\n",
    "        \n",
    "    return result.data"
   ]
  },
  {
   "cell_type": "code",
   "execution_count": null,
   "metadata": {
    "collapsed": true
   },
   "outputs": [],
   "source": [
    "# Delete duplicate value node from sorted linked list\n",
    "\"\"\"\n",
    " Delete duplicate nodes\n",
    " head could be None as well for empty list\n",
    " Node is defined as\n",
    " \n",
    " class Node(object):\n",
    " \n",
    "   def __init__(self, data=None, next_node=None):\n",
    "       self.data = data\n",
    "       self.next = next_node\n",
    "\n",
    " return back the head of the linked list in the below method.\n",
    "\"\"\"\n",
    "\n",
    "def RemoveDuplicates(head):\n",
    "    values = []\n",
    "    preNode = head\n",
    "    current = head\n",
    "    while current:\n",
    "        if current.data in values:\n",
    "            preNode.next = current.next\n",
    "        else:\n",
    "            values.append(current.data)\n",
    "            preNode = current\n",
    "        current = current.next\n",
    "    return head"
   ]
  },
  {
   "cell_type": "code",
   "execution_count": null,
   "metadata": {
    "collapsed": true
   },
   "outputs": [],
   "source": [
    "# Cycle detection\n",
    "\"\"\"\n",
    "Detect a cycle in a linked list. Note that the head pointer may be 'None' if the list is empty.\n",
    "\n",
    "A Node is defined as: \n",
    " \n",
    "    class Node(object):\n",
    "        def __init__(self, data = None, next_node = None):\n",
    "            self.data = data\n",
    "            self.next = next_node\n",
    "\"\"\"\n",
    "\n",
    "def has_cycle(head):\n",
    "    if head == None or head.next == None:\n",
    "        return False\n",
    "    visited = []\n",
    "    while head:\n",
    "        if head in visited:\n",
    "            return True\n",
    "        else:\n",
    "            visited.append(head)\n",
    "            head = head.next\n",
    "    return False"
   ]
  },
  {
   "cell_type": "code",
   "execution_count": null,
   "metadata": {
    "collapsed": true
   },
   "outputs": [],
   "source": [
    "# Find merge point of two list\n",
    "\"\"\"\n",
    " Find the node at which both lists merge and return the data of that node.\n",
    " head could be None as well for empty list\n",
    " Node is defined as\n",
    " \n",
    " class Node(object):\n",
    " \n",
    "   def __init__(self, data=None, next_node=None):\n",
    "       self.data = data\n",
    "       self.next = next_node\n",
    " \n",
    "\"\"\"\n",
    "def FindMergeNode(headA, headB):\n",
    "    visited = []\n",
    "    while headA or headB:\n",
    "        if headA:\n",
    "            if headA.data in visited:\n",
    "                return headA.data\n",
    "            else:\n",
    "                visited.append(headA.data)\n",
    "                headA = headA.next\n",
    "        if headB:\n",
    "            if headB.data in visited:\n",
    "                return headB.data\n",
    "            else:\n",
    "                visited.append(headB.data)\n",
    "                headB = headB.next\n",
    "                \n",
    "# 2nd attempt\n",
    "def FindMergeNode(headA, headB):\n",
    "    curA = headA\n",
    "    curB = headB\n",
    "    while not curA == curB:\n",
    "        if curA.next == None:\n",
    "            curA = headB\n",
    "        else:\n",
    "            curA = curA.next\n",
    "        if curB.next == None:\n",
    "            curB = headA\n",
    "        else:\n",
    "            curB = curB.next\n",
    "    return curA.data"
   ]
  },
  {
   "cell_type": "code",
   "execution_count": null,
   "metadata": {
    "collapsed": true
   },
   "outputs": [],
   "source": [
    "# Insert a node into a sorted doubly linked list\n",
    "\"\"\"\n",
    " Insert a node into a sorted doubly linked list\n",
    " head could be None as well for empty list\n",
    " Node is defined as\n",
    " \n",
    " class Node(object):\n",
    " \n",
    "   def __init__(self, data=None, next_node=None, prev_node = None):\n",
    "       self.data = data\n",
    "       self.next = next_node\n",
    "       self.prev = prev_node\n",
    "\n",
    " return the head node of the updated list \n",
    "\"\"\"\n",
    "def SortedInsert(head, data):\n",
    "    newN = Node(data)\n",
    "    if not head:\n",
    "        return newN\n",
    "    if data < head.data:\n",
    "        newN.next = head\n",
    "        return newN\n",
    "    current = head\n",
    "    pre = Node(None, head)\n",
    "    while current and data > current.data:\n",
    "        current = current.next\n",
    "        pre = pre.next\n",
    "    pre.next = newN\n",
    "    newN.next = current\n",
    "    return head"
   ]
  },
  {
   "cell_type": "code",
   "execution_count": null,
   "metadata": {
    "collapsed": true
   },
   "outputs": [],
   "source": [
    "# Reverse a doubly linked list\n",
    "\"\"\"\n",
    " Reverse a doubly linked list\n",
    " head could be None as well for empty list\n",
    " Node is defined as\n",
    " \n",
    " class Node(object):\n",
    " \n",
    "   def __init__(self, data=None, next_node=None, prev_node = None):\n",
    "       self.data = data\n",
    "       self.next = next_node\n",
    "       self.prev = prev_node\n",
    "\n",
    " return the head node of the updated list \n",
    "\"\"\"\n",
    "def Reverse(head):\n",
    "    curr = None\n",
    "    while head:\n",
    "        next = head.next\n",
    "        curr = head\n",
    "        head.next = head.prev\n",
    "        head.prev = next\n",
    "        head = next\n",
    "    return curr\n",
    "\n",
    "# 2nd solution\n",
    "def Reverse(head):\n",
    "    if not head:\n",
    "        return head\n",
    "    head.next, head.prev = head.prev, head.next\n",
    "    if not head.prev:\n",
    "        return head\n",
    "    return Reverse(head.prev)\n"
   ]
  },
  {
   "cell_type": "markdown",
   "metadata": {},
   "source": [
    "### Trees"
   ]
  },
  {
   "cell_type": "code",
   "execution_count": null,
   "metadata": {
    "collapsed": true
   },
   "outputs": [],
   "source": []
  },
  {
   "cell_type": "code",
   "execution_count": null,
   "metadata": {
    "collapsed": true
   },
   "outputs": [],
   "source": []
  },
  {
   "cell_type": "code",
   "execution_count": null,
   "metadata": {
    "collapsed": true
   },
   "outputs": [],
   "source": []
  },
  {
   "cell_type": "code",
   "execution_count": null,
   "metadata": {
    "collapsed": true
   },
   "outputs": [],
   "source": []
  },
  {
   "cell_type": "markdown",
   "metadata": {},
   "source": [
    "### Balanced Trees"
   ]
  },
  {
   "cell_type": "markdown",
   "metadata": {},
   "source": [
    "### Stacks"
   ]
  },
  {
   "cell_type": "markdown",
   "metadata": {},
   "source": [
    "### Queues"
   ]
  },
  {
   "cell_type": "markdown",
   "metadata": {},
   "source": [
    "### Heap"
   ]
  },
  {
   "cell_type": "markdown",
   "metadata": {},
   "source": [
    "### Disjoint Set"
   ]
  },
  {
   "cell_type": "markdown",
   "metadata": {},
   "source": [
    "### Multiple Choice"
   ]
  },
  {
   "cell_type": "markdown",
   "metadata": {},
   "source": [
    "### Trie"
   ]
  },
  {
   "cell_type": "markdown",
   "metadata": {},
   "source": [
    "### Advanced"
   ]
  }
 ],
 "metadata": {
  "anaconda-cloud": {},
  "kernelspec": {
   "display_name": "Python [conda root]",
   "language": "python",
   "name": "conda-root-py"
  },
  "language_info": {
   "codemirror_mode": {
    "name": "ipython",
    "version": 2
   },
   "file_extension": ".py",
   "mimetype": "text/x-python",
   "name": "python",
   "nbconvert_exporter": "python",
   "pygments_lexer": "ipython2",
   "version": "2.7.12"
  }
 },
 "nbformat": 4,
 "nbformat_minor": 1
}
