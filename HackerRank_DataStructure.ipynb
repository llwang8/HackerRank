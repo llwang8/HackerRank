{
 "cells": [
  {
   "cell_type": "markdown",
   "metadata": {},
   "source": [
    "# HackerRank\n",
    "## Data Structure\n"
   ]
  },
  {
   "cell_type": "markdown",
   "metadata": {},
   "source": [
    "### Array"
   ]
  },
  {
   "cell_type": "code",
   "execution_count": null,
   "metadata": {
    "collapsed": true
   },
   "outputs": [],
   "source": [
    "# Array - DS\n",
    "#!/bin/python\n",
    "import sys\n",
    "\n",
    "n = int(raw_input().strip())\n",
    "arr = map(int,raw_input().strip().split(' '))\n",
    "\n",
    "print ' '.join(map(str, arr[::-1]))"
   ]
  },
  {
   "cell_type": "code",
   "execution_count": null,
   "metadata": {
    "collapsed": true
   },
   "outputs": [],
   "source": [
    "# 2D Array - DS\n",
    "import sys\n",
    "\n",
    "arr = []\n",
    "hglass_totals = []\n",
    "for arr_i in xrange(6):\n",
    "    arr_temp = map(int,raw_input().strip().split(' '))\n",
    "    arr.append(arr_temp)\n",
    "\n",
    "for i in xrange(4):\n",
    "    for j in xrange(4):\n",
    "        temp = [arr[i][k] for k in range(j, j+3)]\n",
    "        temp.append(arr[i+1][j+1])\n",
    "        temp = temp + [arr[i+2][k] for k in range(j, j+3)]\n",
    "        hglass_totals.append(sum(temp))\n",
    "\n",
    "print max(hglass_totals)\n",
    "\n",
    "# another solution\n",
    "import sys\n",
    "\n",
    "arr = []\n",
    "hglass_totals = []\n",
    "for arr_i in xrange(6):\n",
    "    arr_temp = map(int,raw_input().strip().split(' '))\n",
    "    arr.append(arr_temp)\n",
    "    \n",
    "hglass_totals = [sum(arr[i][j:j+3] + [arr[i+1][j+1]] + arr[i+2][j:j+3]) for i in xrange(4) for j in xrange(4)]\n",
    "print max(hglass_totals)"
   ]
  },
  {
   "cell_type": "code",
   "execution_count": null,
   "metadata": {
    "collapsed": true
   },
   "outputs": [],
   "source": [
    "# Dynamic Array\n",
    "n, m = map(int, raw_input().split())\n",
    "seqList = [[] for i in range(n)]\n",
    "lastAnswer = 0\n",
    "for _ in range(m):\n",
    "    query, x, y = map(int, raw_input().split())\n",
    "    index = (x^lastAnswer)%n   \n",
    "    \n",
    "    if query == 1:\n",
    "        seqList[index].append(y)\n",
    "    else:\n",
    "        idx = y%(len(seqList[index]))\n",
    "        lastAnswer = seqList[index][idx]\n",
    "        print lastAnswer\n",
    "        \n",
    "    #print index, seqList\n"
   ]
  },
  {
   "cell_type": "code",
   "execution_count": null,
   "metadata": {
    "collapsed": true
   },
   "outputs": [],
   "source": [
    "# Left Rotation\n",
    "import sys\n",
    "\n",
    "def leftRotation(arr, d):\n",
    "    return arr[d:] + arr[0:d]\n",
    "    \n",
    "if __name__ == \"__main__\":\n",
    "    n, d = map(int, raw_input().strip().split(' '))\n",
    "    arr = map(int, raw_input().strip().split(' '))\n",
    "    result = leftRotation(arr, d)\n",
    "    print \" \".join(map(str, result))"
   ]
  },
  {
   "cell_type": "code",
   "execution_count": null,
   "metadata": {
    "collapsed": true
   },
   "outputs": [],
   "source": [
    "# sparse Arrays\n",
    "n = int(raw_input())\n",
    "collection = [raw_input() for _ in range(n)]\n",
    "q = int(raw_input())\n",
    "for _ in range(q):\n",
    "    count = 0\n",
    "    query = raw_input()\n",
    "    for item in collection:\n",
    "        if item == query:\n",
    "            count += 1\n",
    "    print count"
   ]
  },
  {
   "cell_type": "code",
   "execution_count": null,
   "metadata": {
    "collapsed": true
   },
   "outputs": [],
   "source": [
    "# Algorithmic Crush\n",
    "\n",
    "# 1st attempt\n",
    "import sys\n",
    "if __name__ == \"__main__\":\n",
    "    n, m = map(int, raw_input().strip().split(' '))\n",
    "    arr = [0 for _ in range(n)]\n",
    "    for _ in xrange(m):\n",
    "        a, b, k = map(int, raw_input().strip().split(' '))     \n",
    "        j = b + 1 if b < n else b\n",
    "        for i in range(a, j):\n",
    "            arr[i] += k\n",
    "            \n",
    "    print max(arr)\n",
    "    \n",
    "# anther solution\n",
    "import sys\n",
    "from itertools import accumulate\n",
    "\n",
    "if __name__ == \"__main__\":\n",
    "    n, m = map(int, raw_input().strip().split(' '))\n",
    "    arr = [0] * (n+1)\n",
    "    for _ in xrange(m):\n",
    "        a, b, k = map(int, raw_input().strip().split(' '))   \n",
    "\n",
    "        arr[a-1] += k\n",
    "        arr[b] -= k\n",
    "        \n",
    "    print max(list(accumulate(arr)))\n",
    "\n",
    "# 3rd solution\n",
    "import sys\n",
    "\n",
    "if __name__ == \"__main__\":\n",
    "    n, m = map(int, raw_input().strip().split(' '))\n",
    "    arr = [0] * (n)\n",
    "\n",
    "    for _ in xrange(m):\n",
    "        a, b, k = map(int, raw_input().strip().split(' '))   \n",
    "        \n",
    "        arr[a-1] += k \n",
    "        if b < n:\n",
    "            arr[b] -= k \n",
    "    \n",
    "    print arr    \n",
    "    max = t = 0\n",
    "    for item in arr:\n",
    "        t += item\n",
    "        if max < t:\n",
    "            max = t\n",
    "        \n",
    "    print max"
   ]
  },
  {
   "cell_type": "markdown",
   "metadata": {},
   "source": [
    "### Linked Lists"
   ]
  },
  {
   "cell_type": "code",
   "execution_count": null,
   "metadata": {
    "collapsed": true
   },
   "outputs": [],
   "source": [
    "# Printed elements of linked list\n",
    "\"\"\"\n",
    " Print elements of a linked list on console\n",
    " head input could be None as well for empty list\n",
    " Node is defined as\n",
    " \n",
    " class Node(object):\n",
    " \n",
    "   def __init__(self, data=None, next_node=None):\n",
    "       self.data = data\n",
    "       self.next = next_node\n",
    " \n",
    " \n",
    "\"\"\"\n",
    "def print_list(head):\n",
    "    node = head\n",
    "    while node:\n",
    "        print node.data\n",
    "        node = node.next"
   ]
  },
  {
   "cell_type": "code",
   "execution_count": null,
   "metadata": {
    "collapsed": true
   },
   "outputs": [],
   "source": [
    "# Insert a node at the tail of the linked list\n",
    "\"\"\"\n",
    " Insert Node at the end of a linked list \n",
    " head pointer input could be None as well for empty list\n",
    " Node is defined as\n",
    " \n",
    " class Node(object):\n",
    " \n",
    "   def __init__(self, data=None, next_node=None):\n",
    "       self.data = data\n",
    "       self.next = next_node\n",
    " \n",
    " return back the head of the linked list in the below method\n",
    "\"\"\"\n",
    "\n",
    "def Insert(head, data):\n",
    "    if head:\n",
    "        node = head\n",
    "        while node.next:\n",
    "            node = node.next\n",
    "        node.next = Node(data, None)\n",
    "        return head\n",
    "    else:\n",
    "        return Node(data, None)\n",
    "\n",
    "# recursive solution\n",
    "def Insert(head, data):\n",
    "    if head:\n",
    "        if head.next:\n",
    "            Insert(head.next, data)\n",
    "        else:\n",
    "            head.next = Node(data, None)\n",
    "        return head\n",
    "    else:\n",
    "        return Node(data, None)"
   ]
  },
  {
   "cell_type": "code",
   "execution_count": null,
   "metadata": {
    "collapsed": true
   },
   "outputs": [],
   "source": [
    "# Insert a node at the head of the linked list\n",
    "\"\"\"\n",
    " Insert Node at the begining of a linked list\n",
    " head input could be None as well for empty list\n",
    " Node is defined as\n",
    " \n",
    " class Node(object):\n",
    " \n",
    "   def __init__(self, data=None, next_node=None):\n",
    "       self.data = data\n",
    "       self.next = next_node\n",
    "\n",
    " return back the head of the linked list in the below method. \n",
    "\"\"\"\n",
    "\n",
    "def Insert(head, data):\n",
    "    if head:\n",
    "        return Node(data, head)\n",
    "    else:\n",
    "        return Node(data, None)"
   ]
  },
  {
   "cell_type": "code",
   "execution_count": null,
   "metadata": {
    "collapsed": true
   },
   "outputs": [],
   "source": [
    "# Insert a node at any location of the linked list\n",
    "\"\"\"\n",
    " Insert Node at a specific position in a linked list\n",
    " head input could be None as well for empty list\n",
    " Node is defined as\n",
    " \n",
    " class Node(object):\n",
    " \n",
    "   def __init__(self, data=None, next_node=None):\n",
    "       self.data = data\n",
    "       self.next = next_node\n",
    "\n",
    " return back the head of the linked list in the below method. \n",
    "\"\"\"    \n",
    "# 2nd attempt\n",
    "def InsertNth(head, data, position):\n",
    "    if position == 0:\n",
    "        return Node(data, head) \n",
    "    i = 1\n",
    "    node = head\n",
    "    while i < position:\n",
    "        pre = node\n",
    "        node = node.next\n",
    "        i += 1\n",
    "    node.next = Node(data, node.next)\n",
    "    return head"
   ]
  },
  {
   "cell_type": "code",
   "execution_count": null,
   "metadata": {
    "collapsed": true
   },
   "outputs": [],
   "source": [
    "# Delete a node\n",
    "\"\"\"\n",
    " Delete Node at a given position in a linked list\n",
    " Node is defined as\n",
    " \n",
    " class Node(object):\n",
    " \n",
    "   def __init__(self, data=None, next_node=None):\n",
    "       self.data = data\n",
    "       self.next = next_node\n",
    "\n",
    " return back the head of the linked list in the below method. \n",
    "\"\"\"\n",
    "\n",
    "def Delete(head, position):\n",
    "    if position == 0:\n",
    "        return head.next \n",
    "    i = 1\n",
    "    node = head\n",
    "    while i < position:\n",
    "        node = node.next\n",
    "        i += 1\n",
    "    node.next = node.next.next\n",
    "    return head"
   ]
  },
  {
   "cell_type": "code",
   "execution_count": null,
   "metadata": {
    "collapsed": true
   },
   "outputs": [],
   "source": [
    "# Print in reverse\n",
    "\"\"\"\n",
    " Print elements of a linked list in reverse order as standard output\n",
    " head could be None as well for empty list\n",
    " Node is defined as\n",
    " \n",
    " class Node(object):\n",
    " \n",
    "   def __init__(self, data=None, next_node=None):\n",
    "       self.data = data\n",
    "       self.next = next_node\n",
    "\"\"\"\n",
    "def ReversePrint(head):\n",
    "    if head:\n",
    "        ReversePrint(head.next)\n",
    "        print head.data"
   ]
  },
  {
   "cell_type": "code",
   "execution_count": null,
   "metadata": {
    "collapsed": true
   },
   "outputs": [],
   "source": [
    "# Reverse a linked list\n",
    "\"\"\"\n",
    " Reverse a linked list\n",
    " head could be None as well for empty list\n",
    " Node is defined as\n",
    " \n",
    " class Node(object):\n",
    " \n",
    "   def __init__(self, data=None, next_node=None):\n",
    "       self.data = data\n",
    "       self.next = next_node\n",
    "\n",
    " return back the head of the linked list in the below method.\n",
    "\"\"\"\n",
    "\n",
    "def Reverse(head):\n",
    "    if head:\n",
    "        node = head.next\n",
    "        head.next = None\n",
    "        pre = head\n",
    "        while node.next:\n",
    "            temp = node.next\n",
    "            node.next = pre\n",
    "            pre = node\n",
    "            node = temp\n",
    "        node.next = pre\n",
    "        return node           \n",
    "    else:\n",
    "        return head"
   ]
  },
  {
   "cell_type": "code",
   "execution_count": null,
   "metadata": {
    "collapsed": true
   },
   "outputs": [],
   "source": [
    "# Compare two linked list\n",
    "\"\"\"\n",
    " Reverse a linked list\n",
    " head could be None as well for empty list\n",
    " Node is defined as\n",
    " \n",
    " class Node(object):\n",
    " \n",
    "   def __init__(self, data=None, next_node=None):\n",
    "       self.data = data\n",
    "       self.next = next_node\n",
    "\n",
    " return back the head of the linked list in the below method.\n",
    "\"\"\"\n",
    "# 1st attempt\n",
    "def Reverse(head):\n",
    "    if head:\n",
    "        node = head.next\n",
    "        head.next = None\n",
    "        pre = head\n",
    "        while node.next:\n",
    "            temp = node.next\n",
    "            node.next = pre\n",
    "            pre = node\n",
    "            node = temp\n",
    "        node.next = pre\n",
    "        return node           \n",
    "    else:\n",
    "        return head\n",
    "    \n",
    "# 2nd attempt\n",
    "\"\"\"\n",
    " Reverse a linked list\n",
    " head could be None as well for empty list\n",
    " Node is defined as\n",
    " \n",
    " class Node(object):\n",
    " \n",
    "   def __init__(self, data=None, next_node=None):\n",
    "       self.data = data\n",
    "       self.next = next_node\n",
    "\n",
    " return back the head of the linked list in the below method.\n",
    "\"\"\"\n",
    "\n",
    "def Reverse(head):\n",
    "    if head == None or head.next == None:\n",
    "        return head\n",
    "    else:\n",
    "        remaining = Reverse(head.next)\n",
    "        head.next.next = head\n",
    "        head.next = None\n",
    "        return remaining"
   ]
  },
  {
   "cell_type": "code",
   "execution_count": null,
   "metadata": {
    "collapsed": true
   },
   "outputs": [],
   "source": [
    "# Merge two linked list\n",
    "#Body\n",
    "\"\"\"\n",
    " Compare two linked list\n",
    " head could be None as well for empty list\n",
    " Node is defined as\n",
    " \n",
    " class Node(object):\n",
    " \n",
    "   def __init__(self, data=None, next_node=None):\n",
    "       self.data = data\n",
    "       self.next = next_node\n",
    "\n",
    " return back the head of the linked list in the below method.\n",
    "\"\"\"\n",
    "\n",
    "def CompareLists(headA, headB):\n",
    "    nodeA = headA\n",
    "    nodeB = headB\n",
    "    \n",
    "    if nodeA == nodeB == None:\n",
    "        return 0\n",
    "    \n",
    "    while nodeA and nodeB:\n",
    "        if nodeA.data != nodeB.data:\n",
    "            return 0\n",
    "        else:\n",
    "            nodeA = nodeA.next\n",
    "            nodeB = nodeB.next\n",
    "            \n",
    "    if nodeA or nodeB:\n",
    "        return 0\n",
    "    else:\n",
    "        return 1"
   ]
  },
  {
   "cell_type": "code",
   "execution_count": null,
   "metadata": {
    "collapsed": true
   },
   "outputs": [],
   "source": [
    "\"\"\"\n",
    " Merge two linked lists\n",
    " head could be None as well for empty list\n",
    " Node is defined as\n",
    " \n",
    " class Node(object):\n",
    " \n",
    "   def __init__(self, data=None, next_node=None):\n",
    "       self.data = data\n",
    "       self.next = next_node\n",
    "\n",
    " return back the head of the linked list in the below method.\n",
    "\"\"\"\n",
    "def MergeLists(headA, headB):\n",
    "    if headA == None:\n",
    "        return headB\n",
    "    if headB == None:\n",
    "        return headA \n",
    "    \n",
    "    if headA.data <= headB.data:\n",
    "        headA.next = MergeLists(headA.next, headB)\n",
    "        return headA\n",
    "    else:\n",
    "        headB.next = MergeLists(headA, headB.next)\n",
    "        return headB\n",
    "    \n",
    "# 2nd attempt\n"
   ]
  },
  {
   "cell_type": "code",
   "execution_count": null,
   "metadata": {
    "collapsed": true
   },
   "outputs": [],
   "source": [
    "# Get node value\n",
    "\"\"\"\n",
    " Get Node data of the Nth Node from the end.\n",
    " head could be None as well for empty list\n",
    " Node is defined as\n",
    " \n",
    " class Node(object):\n",
    " \n",
    "   def __init__(self, data=None, next_node=None):\n",
    "       self.data = data\n",
    "       self.next = next_node\n",
    "\n",
    " return back the node data of the linked list in the below method.\n",
    "\"\"\"\n",
    "\n",
    "def GetNode(head, position):\n",
    "    result = head\n",
    "    len = 0\n",
    "    while head:\n",
    "        if len > position:\n",
    "            result = result.next\n",
    "        len += 1\n",
    "        head = head.next\n",
    "        \n",
    "    return result.data"
   ]
  },
  {
   "cell_type": "code",
   "execution_count": null,
   "metadata": {
    "collapsed": true
   },
   "outputs": [],
   "source": [
    "# Delete duplicate value node from sorted linked list\n",
    "\"\"\"\n",
    " Delete duplicate nodes\n",
    " head could be None as well for empty list\n",
    " Node is defined as\n",
    " \n",
    " class Node(object):\n",
    " \n",
    "   def __init__(self, data=None, next_node=None):\n",
    "       self.data = data\n",
    "       self.next = next_node\n",
    "\n",
    " return back the head of the linked list in the below method.\n",
    "\"\"\"\n",
    "\n",
    "def RemoveDuplicates(head):\n",
    "    values = []\n",
    "    preNode = head\n",
    "    current = head\n",
    "    while current:\n",
    "        if current.data in values:\n",
    "            preNode.next = current.next\n",
    "        else:\n",
    "            values.append(current.data)\n",
    "            preNode = current\n",
    "        current = current.next\n",
    "    return head"
   ]
  },
  {
   "cell_type": "code",
   "execution_count": null,
   "metadata": {
    "collapsed": true
   },
   "outputs": [],
   "source": [
    "# Cycle detection\n",
    "\"\"\"\n",
    "Detect a cycle in a linked list. Note that the head pointer may be 'None' if the list is empty.\n",
    "\n",
    "A Node is defined as: \n",
    " \n",
    "    class Node(object):\n",
    "        def __init__(self, data = None, next_node = None):\n",
    "            self.data = data\n",
    "            self.next = next_node\n",
    "\"\"\"\n",
    "\n",
    "def has_cycle(head):\n",
    "    if head == None or head.next == None:\n",
    "        return False\n",
    "    visited = []\n",
    "    while head:\n",
    "        if head in visited:\n",
    "            return True\n",
    "        else:\n",
    "            visited.append(head)\n",
    "            head = head.next\n",
    "    return False"
   ]
  },
  {
   "cell_type": "code",
   "execution_count": null,
   "metadata": {
    "collapsed": true
   },
   "outputs": [],
   "source": [
    "# Find merge point of two list\n",
    "\"\"\"\n",
    " Find the node at which both lists merge and return the data of that node.\n",
    " head could be None as well for empty list\n",
    " Node is defined as\n",
    " \n",
    " class Node(object):\n",
    " \n",
    "   def __init__(self, data=None, next_node=None):\n",
    "       self.data = data\n",
    "       self.next = next_node\n",
    " \n",
    "\"\"\"\n",
    "def FindMergeNode(headA, headB):\n",
    "    visited = []\n",
    "    while headA or headB:\n",
    "        if headA:\n",
    "            if headA.data in visited:\n",
    "                return headA.data\n",
    "            else:\n",
    "                visited.append(headA.data)\n",
    "                headA = headA.next\n",
    "        if headB:\n",
    "            if headB.data in visited:\n",
    "                return headB.data\n",
    "            else:\n",
    "                visited.append(headB.data)\n",
    "                headB = headB.next\n",
    "                \n",
    "# 2nd attempt\n",
    "def FindMergeNode(headA, headB):\n",
    "    curA = headA\n",
    "    curB = headB\n",
    "    while not curA == curB:\n",
    "        if curA.next == None:\n",
    "            curA = headB\n",
    "        else:\n",
    "            curA = curA.next\n",
    "        if curB.next == None:\n",
    "            curB = headA\n",
    "        else:\n",
    "            curB = curB.next\n",
    "    return curA.data"
   ]
  },
  {
   "cell_type": "code",
   "execution_count": null,
   "metadata": {
    "collapsed": true
   },
   "outputs": [],
   "source": [
    "# Insert a node into a sorted doubly linked list\n",
    "\"\"\"\n",
    " Insert a node into a sorted doubly linked list\n",
    " head could be None as well for empty list\n",
    " Node is defined as\n",
    " \n",
    " class Node(object):\n",
    " \n",
    "   def __init__(self, data=None, next_node=None, prev_node = None):\n",
    "       self.data = data\n",
    "       self.next = next_node\n",
    "       self.prev = prev_node\n",
    "\n",
    " return the head node of the updated list \n",
    "\"\"\"\n",
    "def SortedInsert(head, data):\n",
    "    newN = Node(data)\n",
    "    if not head:\n",
    "        return newN\n",
    "    if data < head.data:\n",
    "        newN.next = head\n",
    "        return newN\n",
    "    current = head\n",
    "    pre = Node(None, head)\n",
    "    while current and data > current.data:\n",
    "        current = current.next\n",
    "        pre = pre.next\n",
    "    pre.next = newN\n",
    "    newN.next = current\n",
    "    return head"
   ]
  },
  {
   "cell_type": "code",
   "execution_count": null,
   "metadata": {
    "collapsed": true
   },
   "outputs": [],
   "source": [
    "# Reverse a doubly linked list\n",
    "\"\"\"\n",
    " Reverse a doubly linked list\n",
    " head could be None as well for empty list\n",
    " Node is defined as\n",
    " \n",
    " class Node(object):\n",
    " \n",
    "   def __init__(self, data=None, next_node=None, prev_node = None):\n",
    "       self.data = data\n",
    "       self.next = next_node\n",
    "       self.prev = prev_node\n",
    "\n",
    " return the head node of the updated list \n",
    "\"\"\"\n",
    "def Reverse(head):\n",
    "    curr = None\n",
    "    while head:\n",
    "        next = head.next\n",
    "        curr = head\n",
    "        head.next = head.prev\n",
    "        head.prev = next\n",
    "        head = next\n",
    "    return curr\n",
    "\n",
    "# 2nd solution\n",
    "def Reverse(head):\n",
    "    if not head:\n",
    "        return head\n",
    "    head.next, head.prev = head.prev, head.next\n",
    "    if not head.prev:\n",
    "        return head\n",
    "    return Reverse(head.prev)\n"
   ]
  },
  {
   "cell_type": "markdown",
   "metadata": {},
   "source": [
    "### Trees"
   ]
  },
  {
   "cell_type": "code",
   "execution_count": null,
   "metadata": {
    "collapsed": true
   },
   "outputs": [],
   "source": [
    "# Preorder traversal\n",
    "def preOrder(root):\n",
    "    if root:\n",
    "        print root.data,\n",
    "        preOrder(root.left)\n",
    "        preOrder(root.right)\n",
    "        "
   ]
  },
  {
   "cell_type": "code",
   "execution_count": null,
   "metadata": {
    "collapsed": true
   },
   "outputs": [],
   "source": [
    "# Postorder traversal\n",
    "\"\"\"\n",
    "Node is defined as\n",
    "self.left (the left child of the node)\n",
    "self.right (the right child of the node)\n",
    "self.data (the value of the node)\n",
    "\"\"\"\n",
    "def postOrder(root):\n",
    "    if root:\n",
    "        postOrder(root.left)\n",
    "        postOrder(root.right)\n",
    "        print root.data,"
   ]
  },
  {
   "cell_type": "code",
   "execution_count": null,
   "metadata": {
    "collapsed": true
   },
   "outputs": [],
   "source": [
    "# Inorder traversal\n",
    "\"\"\"\n",
    "Node is defined as\n",
    "self.left (the left child of the node)\n",
    "self.right (the right child of the node)\n",
    "self.data (the value of the node)\n",
    "\"\"\"\n",
    "def inOrder(root):\n",
    "    if root:\n",
    "        inOrder(root.left)\n",
    "        print root.data,\n",
    "        inOrder(root.right)"
   ]
  },
  {
   "cell_type": "code",
   "execution_count": null,
   "metadata": {
    "collapsed": true
   },
   "outputs": [],
   "source": [
    "# Height of Binary tree\n",
    "'''\n",
    "class Node:\n",
    "      def __init__(self,info): \n",
    "          self.info = info  \n",
    "          self.left = None  \n",
    "          self.right = None \n",
    "           \n",
    "\n",
    "       // this is a node of the tree , which contains info as data, left , right\n",
    "'''\n",
    "def height(root):\n",
    "    if root:\n",
    "        return 1 + max(height(root.left), height(root.right))\n",
    "    else:\n",
    "        return -1"
   ]
  },
  {
   "cell_type": "code",
   "execution_count": null,
   "metadata": {
    "collapsed": true
   },
   "outputs": [],
   "source": [
    "# Top view\n",
    "\"\"\"\n",
    "Node is defined as\n",
    "self.left (the left child of the node)\n",
    "self.right (the right child of the node)\n",
    "self.data (the value of the node)\"\"\"\n",
    "\n",
    "def topView(root):\n",
    "    if root:\n",
    "        if root.left:\n",
    "            root.left.right = None\n",
    "            topView(root.left)\n",
    "        print root.data,\n",
    "        if root.right:\n",
    "            root.right.left = None\n",
    "            topView(root.right)"
   ]
  },
  {
   "cell_type": "code",
   "execution_count": null,
   "metadata": {
    "collapsed": true
   },
   "outputs": [],
   "source": [
    "# Level order traversal\n",
    "\"\"\"\n",
    "Node is defined as\n",
    "self.left (the left child of the node)\n",
    "self.right (the right child of the node)\n",
    "self.data (the value of the node)\n",
    "\"\"\"\n",
    "def levelOrder(root):\n",
    "    if root:\n",
    "        q = [root]\n",
    "        while len(q) > 0:\n",
    "            nd = q.pop(0)\n",
    "            print nd.data,\n",
    "            if nd.left:\n",
    "                q.append(nd.left)\n",
    "            if nd.right:\n",
    "                q.append(nd.right)"
   ]
  },
  {
   "cell_type": "code",
   "execution_count": null,
   "metadata": {
    "collapsed": true
   },
   "outputs": [],
   "source": [
    "# Binary Search tree: insertion\n",
    "\"\"\"\n",
    "Node is defined as\n",
    "self.left (the left child of the node)\n",
    "self.right (the right child of the node)\n",
    "self.data (the value of the node)\"\"\"\n",
    "\n",
    "def insert(r,val):\n",
    "    if not r:\n",
    "        return Node(val)\n",
    "    else:\n",
    "        if val < r.data:\n",
    "            if r.left:\n",
    "                insert(r.left, val)\n",
    "            else:\n",
    "                r.left = Node(val)\n",
    "        else:\n",
    "            if r.right:\n",
    "                insert(r.right, val)\n",
    "            else:\n",
    "                r.right = Node(vala)\n",
    "        return r"
   ]
  },
  {
   "cell_type": "code",
   "execution_count": null,
   "metadata": {
    "collapsed": true
   },
   "outputs": [],
   "source": [
    "# Huffman decoding\n",
    "\"\"\"class Node:\n",
    "    def __init__(self, freq,data):\n",
    "        self.freq= freq\n",
    "        self.data=data\n",
    "        self.left = None\n",
    "        self.right = None\n",
    "\"\"\"        \n",
    "\n",
    "# Enter your code here. Read input from STDIN. Print output to STDOUT\n",
    "def decodeHuff(root , s):\n",
    "    n = len(s)\n",
    "    node = root\n",
    "    result = ''\n",
    "    for i in range(n):\n",
    "        if s[i] == '1':\n",
    "            node = node.right\n",
    "        else:\n",
    "            node = node.left\n",
    "\n",
    "        if node.data != '\\0':\n",
    "            result += node.data\n",
    "            node = root\n",
    "        else:\n",
    "            continue\n",
    "    print result"
   ]
  },
  {
   "cell_type": "code",
   "execution_count": null,
   "metadata": {
    "collapsed": true
   },
   "outputs": [],
   "source": [
    "# Binary search tree: lowest common Ancester\n",
    "\"\"\"\n",
    "Node is defined as\n",
    "self.left (the left child of the node)\n",
    "self.right (the right child of the node)\n",
    "self.data (the value of the node)\n",
    "\"\"\"\n",
    "def lca(root , v1 , v2):\n",
    "    if root:\n",
    "        #print root.data > v1 and root.data > v2\n",
    "        if root.data < v1 and root.data < v2:\n",
    "            return lca(root.right, v1, v2)\n",
    "        elif root.data > v1 and root.data > v1:\n",
    "            return lca(root.left, v1, v2)\n",
    "        else:\n",
    "            return root\n",
    "        \n",
    "# 2nd solution\n",
    "def lca(root, a, b):\n",
    "    node = root\n",
    "    while node:\n",
    "        if max(a, b) < node.data:\n",
    "            node = node.left\n",
    "        elif min(a, b) > node.data:\n",
    "            node = node.right\n",
    "        else:\n",
    "            return node"
   ]
  },
  {
   "cell_type": "code",
   "execution_count": null,
   "metadata": {
    "collapsed": true
   },
   "outputs": [],
   "source": [
    "# Swap nodes [Algo]\n",
    "import sys \n",
    "sys.setrecursionlimit(15000)\n",
    "\n",
    "class Node:\n",
    "    def __init__(self, index, left=None, right=None):\n",
    "        self.index = index\n",
    "        self.left = left\n",
    "        self.right = right\n",
    "\n",
    "# inOrder traversal\n",
    "def inOrder(root):\n",
    "    if root:\n",
    "        inOrder(root.left)\n",
    "        print root.index,\n",
    "        inOrder(root.right)\n",
    "\n",
    "# get number of nodes\n",
    "n = int(raw_input())\n",
    "tree = []\n",
    "nodes = []\n",
    "\n",
    "# creat a tree from input\n",
    "for _ in range(n):\n",
    "    line = map(int, raw_input().split())\n",
    "    if len(tree) == 0:\n",
    "        root = Node(1)\n",
    "        nodes.append((1, root))  # save level and node as a tuple into a temp nodes list\n",
    "    \n",
    "    (level, node) = nodes.pop(0)\n",
    "    \n",
    "    if line[0] != -1:\n",
    "        node.left = Node(line[0])\n",
    "        nodes.append((level+1, node.left))\n",
    "    if line[1] != -1:\n",
    "        node.right = Node(line[1])\n",
    "        nodes.append((level+1, node.right))\n",
    "        \n",
    "    tree.append((level, node))\n",
    "\n",
    "tree += nodes\n",
    "\n",
    "maxHeight = level\n",
    "t = int(raw_input())\n",
    "for _ in range(t):\n",
    "    k = int(raw_input())\n",
    "    swapHeights = [k * i for i in range(1, maxHeight/k+1)]  # [k, 2k, 3k, ...]\n",
    "    \n",
    "    for  kk in swapHeights:\n",
    "        nodesSwaped = filter(lambda x: x[0] == kk, tree)\n",
    "        for e in nodesSwaped:\n",
    "            nd = e[1]\n",
    "            temp = nd.left\n",
    "            nd.left = nd.right\n",
    "            nd.right = temp\n",
    "    inOrder(root)\n",
    "    print '\\r'\n",
    " "
   ]
  },
  {
   "cell_type": "code",
   "execution_count": null,
   "metadata": {
    "collapsed": true
   },
   "outputs": [],
   "source": [
    "# Kitty's calculation on a tree\n",
    "from itertools import combinations\n",
    "\n",
    "class Node():\n",
    "    def __init__(self, data, next=None):\n",
    "        self.data = data\n",
    "        self.next = []\n",
    "\n",
    "def lca(root , v1 , v2):\n",
    "    if root:\n",
    "        #print root.data > v1 and root.data > v2\n",
    "        if root.data < v1 and root.data < v2:\n",
    "            return lca(root.right, v1, v2)\n",
    "        elif root.data > v1 and root.data > v1:\n",
    "            return lca(root.left, v1, v2)\n",
    "        else:\n",
    "            return root\n",
    "        \n",
    "def find_distEdges(tup):\n",
    "    return num\n",
    "\n",
    "n, q = map(int, raw_input().split())\n",
    "# set up tree\n",
    "tree = [None] * (n)\n",
    "for _ in range(n+1):\n",
    "    i, j = map(int, raw_input().split())\n",
    "    if not tree[i]:\n",
    "        tree[i] = Node(i)\n",
    "    if not tree[i]:\n",
    "        tree[j] = Node(j)\n",
    "    tree[i].next.append(tree[j])\n",
    "\n",
    "# process q number of sets\n",
    "q = int(raw_input())\n",
    "for _ in range(q):\n",
    "    m = int(raw_input()) # size of set\n",
    "    if m < 2:\n",
    "        print 0\n",
    "    else:\n",
    "        total = 0\n",
    "        elements = map(int, raw_input().split()) # elements of set\n",
    "        pairs_elements = set(combinations(elements, 2))\n",
    "        for e in pairs_elements:\n",
    "            total += e[0] * e[1] * find_distEdges(e)\n",
    "        print total\n",
    "        "
   ]
  },
  {
   "cell_type": "code",
   "execution_count": null,
   "metadata": {
    "collapsed": true
   },
   "outputs": [],
   "source": [
    "# Is this binary search tree"
   ]
  },
  {
   "cell_type": "code",
   "execution_count": null,
   "metadata": {
    "collapsed": true
   },
   "outputs": [],
   "source": [
    "# Square ten search tree"
   ]
  },
  {
   "cell_type": "code",
   "execution_count": null,
   "metadata": {
    "collapsed": true
   },
   "outputs": [],
   "source": [
    "# Balanced forest "
   ]
  },
  {
   "cell_type": "code",
   "execution_count": null,
   "metadata": {
    "collapsed": true
   },
   "outputs": [],
   "source": [
    "# Jenny's subtrees"
   ]
  },
  {
   "cell_type": "code",
   "execution_count": null,
   "metadata": {
    "collapsed": true
   },
   "outputs": [],
   "source": [
    "# Tree coordinates"
   ]
  },
  {
   "cell_type": "code",
   "execution_count": null,
   "metadata": {
    "collapsed": true
   },
   "outputs": [],
   "source": [
    "# Array Pairs"
   ]
  },
  {
   "cell_type": "markdown",
   "metadata": {},
   "source": [
    "### Balanced Trees"
   ]
  },
  {
   "cell_type": "code",
   "execution_count": null,
   "metadata": {
    "collapsed": true
   },
   "outputs": [],
   "source": [
    "# Self Balancing Tree\n"
   ]
  },
  {
   "cell_type": "code",
   "execution_count": null,
   "metadata": {
    "collapsed": true
   },
   "outputs": [],
   "source": [
    "# Array and simply queries"
   ]
  },
  {
   "cell_type": "code",
   "execution_count": null,
   "metadata": {
    "collapsed": true
   },
   "outputs": [],
   "source": [
    "# Median Updates\n"
   ]
  },
  {
   "cell_type": "markdown",
   "metadata": {},
   "source": [
    "### Stacks"
   ]
  },
  {
   "cell_type": "markdown",
   "metadata": {},
   "source": [
    "### Queues"
   ]
  },
  {
   "cell_type": "markdown",
   "metadata": {},
   "source": [
    "### Heap"
   ]
  },
  {
   "cell_type": "markdown",
   "metadata": {},
   "source": [
    "### Disjoint Set"
   ]
  },
  {
   "cell_type": "markdown",
   "metadata": {},
   "source": [
    "### Multiple Choice"
   ]
  },
  {
   "cell_type": "markdown",
   "metadata": {},
   "source": [
    "### Trie"
   ]
  },
  {
   "cell_type": "markdown",
   "metadata": {},
   "source": [
    "### Advanced"
   ]
  }
 ],
 "metadata": {
  "anaconda-cloud": {},
  "kernelspec": {
   "display_name": "Python [conda root]",
   "language": "python",
   "name": "conda-root-py"
  },
  "language_info": {
   "codemirror_mode": {
    "name": "ipython",
    "version": 2
   },
   "file_extension": ".py",
   "mimetype": "text/x-python",
   "name": "python",
   "nbconvert_exporter": "python",
   "pygments_lexer": "ipython2",
   "version": "2.7.12"
  }
 },
 "nbformat": 4,
 "nbformat_minor": 1
}
