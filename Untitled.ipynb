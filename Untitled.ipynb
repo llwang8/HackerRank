{
 "cells": [
  {
   "cell_type": "markdown",
   "metadata": {},
   "source": [
    "# HackerRank\n",
    "## 30-day Challenges"
   ]
  },
  {
   "cell_type": "code",
   "execution_count": null,
   "metadata": {
    "collapsed": true
   },
   "outputs": [],
   "source": [
    "# Day 4: Class vs. Instance\n",
    "\n",
    "class Person:\n",
    "    age = 0\n",
    "    def __init__(self,initialAge):\n",
    "        if initialAge < 0:\n",
    "            print 'Age is not valid, setting age to 0.'\n",
    "        else:\n",
    "            self.age = initialAge\n",
    "            \n",
    "    def amIOld(self):\n",
    "        if self.age < 13:\n",
    "            print 'You are young.'\n",
    "        elif self.age < 18:\n",
    "            print 'You are a teenager.'\n",
    "        else:\n",
    "            print 'You are old.'\n",
    "            \n",
    "    def yearPasses(self):\n",
    "        self.age += 1     \n",
    "    \n",
    "t = int(raw_input())\n",
    "for i in range(0, t):\n",
    "    age = int(raw_input())         \n",
    "    p = Person(age)  \n",
    "    p.amIOld()\n",
    "    for j in range(0, 3):\n",
    "        p.yearPasses()        \n",
    "    p.amIOld()\n",
    "    print(\"\")\n",
    "              "
   ]
  },
  {
   "cell_type": "code",
   "execution_count": null,
   "metadata": {
    "collapsed": true
   },
   "outputs": [],
   "source": [
    "# Day 7: Array\n",
    "#!/bin/python\n",
    "\n",
    "import sys\n",
    "\n",
    "n = int(raw_input().strip())\n",
    "arr = map(int,raw_input().strip().split(' '))\n",
    "\n",
    "print ' '.join(map(str, arr[::-1]))\n"
   ]
  },
  {
   "cell_type": "code",
   "execution_count": null,
   "metadata": {
    "collapsed": true
   },
   "outputs": [],
   "source": [
    "# Day 8: Dictionary and maps\n",
    "n = int(raw_input())\n",
    "phone_dict = {}\n",
    "for i in range(n):\n",
    "    name, phone = raw_input().split()\n",
    "    if name not in phone_dict:\n",
    "        phone_dict[name] = phone\n",
    "        \n",
    "while True:\n",
    "    nm = raw_input()\n",
    "    if nm == '':\n",
    "        break\n",
    "    else:\n",
    "        if nm in phone_dict:\n",
    "            print nm + '=' + phone_dict[nm]\n",
    "        else:\n",
    "            print 'Not found'"
   ]
  },
  {
   "cell_type": "code",
   "execution_count": null,
   "metadata": {
    "collapsed": true
   },
   "outputs": [],
   "source": [
    "# Day 10: Binaries number\n",
    "# Given a base-10 integer n , , convert it to binary (base-2). Then find and print the base-10 integer denoting the \n",
    "# maximum number of consecutive 1's in n's binary representation.\n",
    "\n",
    "import sys\n",
    "\n",
    "n = int(raw_input().strip())\n",
    "binary_str = bin(n)[2:]\n",
    "\n",
    "count = []\n",
    "ct = 0\n",
    "\n",
    "for i in range(len(binary_str)):\n",
    "    if binary_str[i] == '1':\n",
    "        ct += 1\n",
    "    else:\n",
    "        count.append(ct)\n",
    "        ct = 0\n",
    "        \n",
    "count.append(ct)\n",
    "\n",
    "print max(count)"
   ]
  },
  {
   "cell_type": "code",
   "execution_count": null,
   "metadata": {
    "collapsed": true
   },
   "outputs": [],
   "source": [
    "# Day 11: 2D Arrays\n",
    "#!/bin/python\n",
    "\n",
    "import sys\n",
    "\n",
    "arr = []\n",
    "for arr_i in xrange(6):\n",
    "   arr_temp = map(int,raw_input().strip().split(' '))\n",
    "   arr.append(arr_temp)\n",
    "\n",
    "hourglasses = []\n",
    "for i in range(4):\n",
    "    for j in range(4):\n",
    "        hourglasses.append(sum([arr[i][j], arr[i][j+1], arr[i][j+2], arr[i+1][j+1], arr[i+2][j], arr[i+2][j+1], arr[i+2][j+2]]))\n",
    "\n",
    "#print hourglasses\n",
    "print max(hourglasses)"
   ]
  },
  {
   "cell_type": "code",
   "execution_count": null,
   "metadata": {
    "collapsed": true
   },
   "outputs": [],
   "source": []
  },
  {
   "cell_type": "code",
   "execution_count": null,
   "metadata": {
    "collapsed": true
   },
   "outputs": [],
   "source": []
  },
  {
   "cell_type": "code",
   "execution_count": null,
   "metadata": {
    "collapsed": true
   },
   "outputs": [],
   "source": []
  },
  {
   "cell_type": "code",
   "execution_count": null,
   "metadata": {
    "collapsed": true
   },
   "outputs": [],
   "source": []
  },
  {
   "cell_type": "code",
   "execution_count": null,
   "metadata": {
    "collapsed": true
   },
   "outputs": [],
   "source": []
  },
  {
   "cell_type": "code",
   "execution_count": null,
   "metadata": {
    "collapsed": true
   },
   "outputs": [],
   "source": []
  },
  {
   "cell_type": "code",
   "execution_count": null,
   "metadata": {
    "collapsed": true
   },
   "outputs": [],
   "source": []
  }
 ],
 "metadata": {
  "anaconda-cloud": {},
  "kernelspec": {
   "display_name": "Python [default]",
   "language": "python",
   "name": "python2"
  },
  "language_info": {
   "codemirror_mode": {
    "name": "ipython",
    "version": 2
   },
   "file_extension": ".py",
   "mimetype": "text/x-python",
   "name": "python",
   "nbconvert_exporter": "python",
   "pygments_lexer": "ipython2",
   "version": "2.7.12"
  }
 },
 "nbformat": 4,
 "nbformat_minor": 1
}
