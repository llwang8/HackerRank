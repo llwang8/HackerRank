{
 "cells": [
  {
   "cell_type": "markdown",
   "metadata": {},
   "source": [
    "# HackerRank\n",
    "## Practice\n"
   ]
  },
  {
   "cell_type": "markdown",
   "metadata": {},
   "source": [
    "### Intruduction"
   ]
  },
  {
   "cell_type": "code",
   "execution_count": null,
   "metadata": {
    "collapsed": true
   },
   "outputs": [],
   "source": [
    "# if-else \n",
    "# Given an integer, , perform the following conditional actions:\n",
    "# If  is odd, print Weird\n",
    "# If  is even and in the inclusive range of  to , print Not Weird\n",
    "# If  is even and in the inclusive range of  to , print Weird\n",
    "# If  is even and greater than , print Not Weird\n",
    "if __name__ == '__main__':\n",
    "    n = int(raw_input())\n",
    "    if n % 2 != 0:\n",
    "        print('Weird')\n",
    "    else:\n",
    "        if n > 20:\n",
    "            print('Not Weird')\n",
    "        elif n >=6:\n",
    "            print('Weird')\n",
    "        elif n >=2:\n",
    "            print('Not Weird')"
   ]
  },
  {
   "cell_type": "code",
   "execution_count": null,
   "metadata": {
    "collapsed": true
   },
   "outputs": [],
   "source": [
    "# Loops\n",
    "# Read an integer . For all non-negative integers , print . See the sample for details.\n",
    "if __name__ == '__main__':\n",
    "    n = int(raw_input())\n",
    "    for i in range(n):\n",
    "        print i ** 2\n"
   ]
  },
  {
   "cell_type": "code",
   "execution_count": null,
   "metadata": {
    "collapsed": true
   },
   "outputs": [],
   "source": [
    "# Division\n",
    "# Read two integers and print two lines. The first line should contain integer division,  // . \n",
    "# The second line should contain float division,  / .\n",
    "from __future__ import division\n",
    "if __name__ == '__main__':\n",
    "    a = int(raw_input())\n",
    "    b = int(raw_input())\n",
    "    print a // b\n",
    "    print a / b\n",
    "    "
   ]
  },
  {
   "cell_type": "code",
   "execution_count": null,
   "metadata": {
    "collapsed": true
   },
   "outputs": [],
   "source": [
    "# Write a funciton\n",
    "# You are given the year, and you have to write a function to check if the year is leap or not.\n",
    "# Note that you have to complete the function and remaining code is given as template.\n",
    "# The year can be evenly divided by 4, unless;\n",
    "# The year can be evenly divided by 100, it is NOT a leap year, unless;\n",
    "# The year is also evenly divisible by 400. Then it is a leap year.\n",
    "\n",
    "def is_leap(year):\n",
    "    leap = False\n",
    "    \n",
    "    # Write your logic here\n",
    "    #print(year % 4 == 0) \n",
    "    #print(year % 400 == 0)\n",
    "    if (year % 4 == 0) & (year % 100 != 0):\n",
    "        leap = True\n",
    "    if (year % 400 == 0):\n",
    "        leap = True\n",
    "   \n",
    "    return leap\n",
    "\n",
    "#print('self test')\n",
    "#print is_leap(2100)\n",
    "#print('-----')"
   ]
  },
  {
   "cell_type": "code",
   "execution_count": null,
   "metadata": {
    "collapsed": true
   },
   "outputs": [],
   "source": [
    "# Print function\n",
    "# Read an integer N\n",
    "# Without using any string methods, try to print the following: 123...N\n",
    "\n",
    "from __future__ import print_function\n",
    "if __name__ == '__main__':\n",
    "    n = int(raw_input())\n",
    "    alist = []\n",
    "    for i in xrange(n):\n",
    "        alist.append(i)\n",
    "    #print(*alist, sep='', file=sys.stdout)\n",
    "    print(*alist, sep='', end='\\n', file=sys.stdout)\n"
   ]
  },
  {
   "cell_type": "markdown",
   "metadata": {},
   "source": [
    "### Data Types"
   ]
  },
  {
   "cell_type": "code",
   "execution_count": null,
   "metadata": {
    "collapsed": true
   },
   "outputs": [],
   "source": [
    "# Lists\n",
    "# Initialize your list and read in the value of  followed by n lines of commands where each command will be of the  \n",
    "# 7 types listed above. Iterate through each command in order and perform the corresponding operation on your list.\n"
   ]
  },
  {
   "cell_type": "code",
   "execution_count": null,
   "metadata": {
    "collapsed": true
   },
   "outputs": [],
   "source": [
    "# Tuples\n",
    "# Given an integer N and  space-separated integers as input, create a tuple t of those  integers. \n",
    "# Then compute and print the result of hash(t).\n",
    "if __name__ == '__main__':\n",
    "    n = int(raw_input())\n",
    "    integer_list = map(int, raw_input().split())\n",
    "    t = tuple(integer_list)\n",
    "    print(hash(t))"
   ]
  },
  {
   "cell_type": "code",
   "execution_count": null,
   "metadata": {
    "collapsed": true
   },
   "outputs": [],
   "source": [
    "# List Comprehensions\n",
    "# You are given three integers X, Y, Z  and  representing the dimensions of a cuboid along with an integer N. \n",
    "# You have to print a list of all possible coordinates given by (i, j, k) on a 3D grid where the sum of i+j+k \n",
    "# is not equal to N. Here 0<=i<=X, 0<=j<=Y, 0<=k<=Z, \n",
    "if __name__ == '__main__':\n",
    "    x = int(raw_input())\n",
    "    y = int(raw_input())\n",
    "    z = int(raw_input())\n",
    "    n = int(raw_input())\n",
    "    print [[i, j, k] for i in range(x+1) for j in range(y+1) for k in range(z+1) if ((i+j+k) != n)]"
   ]
  },
  {
   "cell_type": "code",
   "execution_count": null,
   "metadata": {
    "collapsed": true
   },
   "outputs": [],
   "source": [
    "# Find the second largest number\n",
    "# You are given N numbers. Store them in a list and find the second largest number.\n",
    "if __name__ == '__main__':\n",
    "    n = int(raw_input())\n",
    "    arr = map(int, raw_input().split())\n",
    "    found = False\n",
    "    while not found:\n",
    "        max1 = max(arr)\n",
    "        arr.remove(max1)\n",
    "        #print arr\n",
    "        max2 = max(arr)\n",
    "        if max2 != max1:\n",
    "            found = True\n",
    "    print max2\n",
    "    \n",
    "if __name__ == '__main__':\n",
    "    n = int(raw_input())\n",
    "    arr = map(int, raw_input().split())\n",
    "    arr.sort(reverse=True)\n",
    "    for i in range(n):\n",
    "        if arr[i] != arr[0]:\n",
    "            print arr[i]\n",
    "            break"
   ]
  },
  {
   "cell_type": "code",
   "execution_count": null,
   "metadata": {
    "collapsed": true
   },
   "outputs": [],
   "source": [
    "# Nested List\n",
    "# Given the names and grades for each student in a Physics class of N students, store them in a nested list and \n",
    "# print the name(s) of any student(s) having the second lowest grade.\n",
    "from __future__ import print_function\n",
    "students = []\n",
    "scores = []\n",
    "names_2ndLowestGrade = []\n",
    "for _ in range(int(raw_input())):\n",
    "    name = raw_input()\n",
    "    score = float(raw_input())\n",
    "    students.append([name, score])\n",
    "    scores.append(score)\n",
    "    \n",
    "scores.sort()\n",
    "#print(scores) \n",
    "grade_2ndLowest = 0\n",
    "for i in range(len(scores)):\n",
    "    if scores[i] != scores[0]:\n",
    "        grade_2ndLowest = scores[i]\n",
    "        break\n",
    "        \n",
    "if grade_2ndLowest:\n",
    "    names_2ndLowestGrade = [item[0] for item in students if item[1] == grade_2ndLowest]\n",
    "    names_2ndLowestGrade.sort()\n",
    "    print(*names_2ndLowestGrade, sep='\\n')\n"
   ]
  },
  {
   "cell_type": "code",
   "execution_count": null,
   "metadata": {
    "collapsed": true
   },
   "outputs": [],
   "source": [
    "# Finding the percentage\n",
    "# You have a record of N students. Each record contains the student's name, and their percent marks in Maths, \n",
    "# Physics and Chemistry. The marks can be floating values. The user enters some integer N followed by the names \n",
    "# and marks for N students. You are required to save the record in a dictionary data type. The user then enters a \n",
    "# student's name. Output the average percentage marks obtained by that student, correct to two decimal places.\n",
    "if __name__ == '__main__':\n",
    "    n = int(raw_input())\n",
    "    student_marks = {}\n",
    "    for _ in range(n):\n",
    "        line = raw_input().split()\n",
    "        name, scores = line[0], line[1:]\n",
    "        scores = map(float, scores)\n",
    "        student_marks[name] = scores\n",
    "    query_name = raw_input()\n",
    "    avg = sum(student_marks[query_name]) / 3\n",
    "    print(format(avg, '.2f'))\n"
   ]
  },
  {
   "cell_type": "markdown",
   "metadata": {},
   "source": [
    "### Strings"
   ]
  },
  {
   "cell_type": "code",
   "execution_count": null,
   "metadata": {
    "collapsed": true
   },
   "outputs": [],
   "source": [
    "# sWAP cASE\n",
    "# You are given a string S. Your task is to swap cases. In other words, convert all lowercase letters to \n",
    "# uppercase letters and vice versa.\n",
    "def swap_case(s):\n",
    "    toList = map(str, s)\n",
    "    for i in range(len(toList)):\n",
    "        if toList[i].isupper():\n",
    "            toList[i] = toList[i].lower()\n",
    "        else:\n",
    "            toList[i] = toList[i].upper()\n",
    "    \n",
    "    return ''.join(toList)"
   ]
  },
  {
   "cell_type": "code",
   "execution_count": null,
   "metadata": {
    "collapsed": true
   },
   "outputs": [],
   "source": [
    "# String Split and Join\n",
    "# In Python, a string can be split on a delimiter.\n",
    "def split_and_join(line):\n",
    "    return '-'.join(line.split(' '))"
   ]
  },
  {
   "cell_type": "code",
   "execution_count": null,
   "metadata": {
    "collapsed": true
   },
   "outputs": [],
   "source": [
    "# What's Your Name?\n",
    "# You are given the firstname and lastname of a person on two different lines. Your task is to read them and print the following:\n",
    "# Hello firstname lastname! You just delved into python.\n",
    "\n",
    "def print_full_name(a, b):\n",
    "    print \"Hello \" + a + \" \" + b + \"! You just delved into python.\""
   ]
  },
  {
   "cell_type": "code",
   "execution_count": null,
   "metadata": {
    "collapsed": true
   },
   "outputs": [],
   "source": [
    "# Mutations\n",
    "# Read a given string, change the character at a given index and then print the modified string.\n",
    "def mutate_string(string, position, character):\n",
    "    alist = list(string)\n",
    "    alist[position] = character\n",
    "    return ''.join(alist)"
   ]
  },
  {
   "cell_type": "code",
   "execution_count": null,
   "metadata": {
    "collapsed": true
   },
   "outputs": [],
   "source": [
    "# Find a string\n",
    "# In this challenge, the user enters a string and a substring. You have to print the number of times that the \n",
    "# substring occurs in the given string. String traversal will take place from left to right, not from right to left.\n",
    "\n",
    "def count_substring(string, sub_string):\n",
    "    count = 0\n",
    "    n = len(sub_string)\n",
    "    for i in range(len(string)):\n",
    "        if string[i:n+i] == sub_string:\n",
    "            count += 1\n",
    "    return count"
   ]
  },
  {
   "cell_type": "code",
   "execution_count": null,
   "metadata": {
    "collapsed": true
   },
   "outputs": [],
   "source": [
    "# String Validators\n",
    "# You are given a string S. \n",
    "# Your task is to find out if the string  contains: alphanumeric characters, alphabetical characters, digits, \n",
    "# lowercase and uppercase characters.\n",
    "if __name__ == '__main__':\n",
    "    s = raw_input()\n",
    "    any_alnum = False\n",
    "    any_alpha = False\n",
    "    any_digit = False\n",
    "    any_lower = False\n",
    "    any_upper = False\n",
    "    for i in range(len(s)):\n",
    "        if s[i].isalnum():\n",
    "            any_alnum = True\n",
    "        if s[i].isalpha():\n",
    "            any_alpha = True\n",
    "        if s[i].isdigit():\n",
    "            any_digit = True\n",
    "        if s[i].islower():\n",
    "            any_lower = True\n",
    "        if s[i].isupper():\n",
    "            any_upper = True\n",
    "        \n",
    "    print(any_alnum)\n",
    "    print(any_alpha)\n",
    "    print(any_digit)\n",
    "    print(any_lower)\n",
    "    print(any_upper)\n",
    "    \n",
    "# Other solution\n",
    "str = raw_input()\n",
    "print any(c.isalnum()  for c in str)\n",
    "print any(c.isalpha() for c in str)\n",
    "print any(c.isdigit() for c in str)\n",
    "print any(c.islower() for c in str)\n",
    "print any(c.isupper() for c in str)\n",
    "\n",
    "\n",
    "# another solution\n",
    "for test in ('isalnum', 'isalpha', 'isdigit', 'islower', 'isupper'):\n",
    "        any(eval(\"c.\" + test + \"()\") for c in s)\n",
    "        \n"
   ]
  },
  {
   "cell_type": "code",
   "execution_count": null,
   "metadata": {
    "collapsed": true
   },
   "outputs": [],
   "source": [
    "# Text Alignment\n",
    "# You are given a partial code that is used for generating the HackerRank Logo of variable thickness. \n",
    "# Your task is to replace the blank (______) with rjust, ljust or center.\n",
    "\n",
    "#Replace all ______ with rjust, ljust or center. \n",
    "\n",
    "thickness = int(raw_input()) #This must be an odd number\n",
    "c = 'H'\n",
    "\n",
    "#Top Cone\n",
    "for i in range(thickness):\n",
    "    print (c*i).rjust(thickness-1)+c+(c*i).ljust(thickness-1)\n",
    "\n",
    "#Top Pillars\n",
    "for i in range(thickness+1):\n",
    "    print (c*thickness).center(thickness*2)+(c*thickness).center(thickness*6)\n",
    "\n",
    "#Middle Belt\n",
    "for i in range((thickness+1)/2):\n",
    "    print (c*thickness*5).center(thickness*6)    \n",
    "\n",
    "#Bottom Pillars\n",
    "for i in range(thickness+1):\n",
    "    print (c*thickness).center(thickness*2)+(c*thickness).center(thickness*6)    \n",
    "\n",
    "#Bottom Cone\n",
    "for i in range(thickness):\n",
    "    print ((c*(thickness-i-1)).rjust(thickness)+c+(c*(thickness-i-1)).ljust(thickness)).rjust(thickness*6)    "
   ]
  },
  {
   "cell_type": "code",
   "execution_count": null,
   "metadata": {
    "collapsed": true
   },
   "outputs": [],
   "source": [
    "# Text Wrap\n",
    "# You are given a string S and width w. \n",
    "# Your task is to wrap the string into a paragraph of width w.\n",
    "import textwrap\n",
    "def wrap(string, max_width):\n",
    "    return textwrap.fill(string, max_width)\n"
   ]
  },
  {
   "cell_type": "code",
   "execution_count": null,
   "metadata": {
    "collapsed": true
   },
   "outputs": [],
   "source": [
    "# Designer Door Mat\n",
    "# Mr. Vincent works in a door mat manufacturing company. One day, he designed a new door mat with the following \n",
    "# specifications:\n",
    "# Mat size must be N X M. ( N is an odd natural number, and M is 3 times .)\n",
    "# The design should have 'WELCOME' written in the center.\n",
    "# The design pattern should only use |, . and - characters.\n",
    "N, M = map(int,raw_input().split()) # More than 6 lines of code will result in 0 score. Blank lines are not counted.\n",
    "for i in xrange(1,N,2): \n",
    "    print '-'*((M -1)/2-3*i//2) + '.' + '|..'*(i//2) + '|' + '..|'*(i//2) + '.' + '-'*((M-1)/2-3*i//2)\n",
    "print('-'*((M-7)/2) + 'WELCOME' + '-'*((M-7)/2))\n",
    "for i in xrange(N-2,-1,-2): \n",
    "    print '-'*((M -1)/2-3*i//2) + '.' + '|..'*(i//2) + '|' + '..|'*(i//2) + '.' + '-'*((M-1)/2-3*i//2)\n"
   ]
  },
  {
   "cell_type": "code",
   "execution_count": null,
   "metadata": {
    "collapsed": true
   },
   "outputs": [],
   "source": [
    "# String Formatting\n",
    "from __future__ import print_function\n",
    "def print_formatted(number):\n",
    "    w = len(bin(number)[2:])\n",
    "    #print(oct(8))\n",
    "    for i in xrange(1, number+1):        \n",
    "        print(str(i).rjust(w, ' '), str(oct(i))[1:].rjust(w, ' '), str(hex(i))[2:].upper().rjust(w, ' '), str(bin(i))[2:].rjust(w, ' '), sep=' ', end='\\n')\n",
    "\n",
    "if __name__ == '__main__':\n",
    "    n = int(raw_input())\n",
    "    print_formatted(n)"
   ]
  },
  {
   "cell_type": "code",
   "execution_count": null,
   "metadata": {
    "collapsed": true
   },
   "outputs": [],
   "source": [
    "# Alphabet Rangoli\n",
    "# You are given an integer N, . Your task is to print an alphabet rangoli of size N. \n",
    "# (Rangoli is a form of Indian folk art based on creation of patterns.)\n",
    "import string\n",
    "alpha = string.ascii_lowercase\n",
    "def print_rangoli(size):\n",
    "    w = (size -1) * 4 + 1\n",
    "    get_substr(size-1, 0, -1, w)\n",
    "    get_substr(0, size, 1, w)\n",
    "          \n",
    "def get_substr(start, end, step, w):\n",
    "    for i in range(start, end, step):\n",
    "        substr = '-'.join(alpha[i:n])     \n",
    "        substr = substr[::-1] + substr[1:]\n",
    "        print(substr.center(w, '-'))"
   ]
  },
  {
   "cell_type": "code",
   "execution_count": null,
   "metadata": {
    "collapsed": true
   },
   "outputs": [],
   "source": [
    "# Capitalize\n",
    "# You are given a string S. Your task is to capitalize each word of S.\n",
    "if __name__ == '__main__':\n",
    "    string = raw_input()\n",
    "    capitalized_string = capitalize(string)\n",
    "    print capitalized_string\n",
    "    \n",
    "def capitalize(string):\n",
    "    alist = string.split(' ')\n",
    "    blist = []\n",
    "    for word in alist:\n",
    "        blist.append(word.capitalize())\n",
    "    return ' '.join(blist)\n",
    "\n",
    "def capitalize2(string):\n",
    "    newstr = ''\n",
    "    found = True\n",
    "    print string[5]\n",
    "    for i in range(len(string)):\n",
    "        if found == True & string[i].isalpha():\n",
    "            newstr += string[i].upper()\n",
    "            found = False\n",
    "        elif string[i] == ' ':\n",
    "            Found = True\n",
    "            newstr += ' '\n",
    "        else:\n",
    "            newstr += string[i]\n",
    "        \n",
    "        print newstr\n",
    "        print found\n",
    "    return newstr\n"
   ]
  },
  {
   "cell_type": "code",
   "execution_count": null,
   "metadata": {
    "collapsed": true
   },
   "outputs": [],
   "source": [
    "# The Minion game\n",
    "# Kevin and Stuart want to play the 'The Minion Game'.\n",
    "# Game Rules:\n",
    "# Both players are given the same string S, .\n",
    "# Both players have to make substrings using the letters of the string S.\n",
    "# Stuart has to make words starting with consonants.\n",
    "# Kevin has to make words starting with vowels. \n",
    "# The game ends when both players have made all possible substrings. \n",
    "# Scoring:\n",
    "# A player gets +1 point for each occurrence of the substring in the string S.\n",
    "# Your task is to determine the winner of the game and their score.\n",
    "\n",
    "def minion_game(string):\n",
    "    kevin, stuart, length = 0, 0, len(string)\n",
    "    vowels = 'AEIOU'\n",
    "\n",
    "    for i in range(length):\n",
    "        if string[i] in vowels:\n",
    "            kevin += length - i\n",
    "        else:\n",
    "            stuart += length - i\n",
    "      \n",
    "    if kevin > stuart:\n",
    "        print('Kevin ' + str(kevin))\n",
    "    elif kevin == stuart:\n",
    "        print('Draw')\n",
    "    else:\n",
    "        print('Stuart ' + str(stuart))\n",
    "        \n",
    "        "
   ]
  },
  {
   "cell_type": "code",
   "execution_count": null,
   "metadata": {
    "collapsed": true
   },
   "outputs": [],
   "source": [
    "# Merge the Tools\n",
    "# A string, , of length  where .\n",
    "# An integer, , where  is a factor of .\n",
    "# We can split  into  subsegments where each subsegment, , consists of a contiguous block of  characters in . \n",
    "# Then, use each  to create string  such that:\n",
    "# The characters in  are a subsequence of the characters in .\n",
    "# Any repeat occurrence of a character is removed from the string such that each character in  occurs exactly once. \n",
    "# In other words, if the character at some index  in  occurs at a previous index  in , then do not include the character \n",
    "# in string .\n",
    "# Given  and , print  lines where each line  denotes string .\n",
    "\n",
    "from __future__ import print_function\n",
    "def merge_the_tools(string, k):\n",
    "    n = len(string)\n",
    "    substr = []\n",
    "\n",
    "    for i in range(0, n, k):\n",
    "        slicestr = string[i:i+k]\n",
    "        temp = []\n",
    "        for j in range(len(slicestr)):\n",
    "            if slicestr[j] not in temp:\n",
    "                temp.append(slicestr[j])          \n",
    "        print(''.join(temp))\n",
    "\n",
    "if __name__ == '__main__':\n",
    "    string, k = raw_input(), int(raw_input())\n",
    "    merge_the_tools(string, k)"
   ]
  },
  {
   "cell_type": "markdown",
   "metadata": {},
   "source": [
    "### Sets"
   ]
  },
  {
   "cell_type": "code",
   "execution_count": null,
   "metadata": {
    "collapsed": true
   },
   "outputs": [],
   "source": [
    "# Intro to Set\n",
    "# Ms. Gabriel Williams is a botany professor at District College. One day, she asked her student Mickey to compute \n",
    "# the average of all the plants with distinct heights in her greenhouse.\n",
    "from __future__ import print_function\n",
    "def average(array):\n",
    "    aset = set(array)\n",
    "    return sum(aset) / len(aset)\n",
    "\n",
    "if __name__ == '__main__':\n",
    "    n = int(raw_input())\n",
    "    arr = map(int, raw_input().split())\n",
    "    result = average(arr)\n",
    "    print result\n",
    "    "
   ]
  },
  {
   "cell_type": "code",
   "execution_count": null,
   "metadata": {
    "collapsed": true
   },
   "outputs": [],
   "source": [
    "# Symetric difference\n",
    "# Given  sets of integers M,  and N, print their symmetric difference in ascending order. The term symmetric difference\n",
    "# indicates those values that exist in either M or N but do not exist in both.\n",
    "# Enter your code here. Read input from STDIN. Print output to STDOUT\n",
    "from __future__ import print_function\n",
    "\n",
    "M = int(raw_input())\n",
    "Mlist = map(int, raw_input().split())\n",
    "N = int(raw_input())\n",
    "Nlist = map(int, raw_input().split())\n",
    "Mset = set(Mlist)\n",
    "Nset = set(Nlist)\n",
    "MdiffN = Mset.difference(Nset)\n",
    "NdiffM = Nset.difference(Mset)\n",
    "MNunion = list(MdiffN.union(NdiffM))\n",
    "MNunion.sort()\n",
    "print('\\n'.join(map(str, MNunion)))\n",
    "\n",
    "#print(*MsymdiffN, sep='\\n')"
   ]
  },
  {
   "cell_type": "code",
   "execution_count": null,
   "metadata": {
    "collapsed": true
   },
   "outputs": [],
   "source": [
    "# No Idea!\n",
    "# There is an array of n integers. There are also 2 disjoint sets A,  and B, each containing m integers. \n",
    "# You like all the integers in set A and dislike all the integers in set B. Your initial happiness is 0. \n",
    "# For each i integer in the array, if i in A , you add 1 to your happiness. If i in B, you add -1 to your happiness. \n",
    "# Otherwise, your happiness does not change. Output your final happiness at the end.\n",
    "# Enter your code here. Read input from STDIN. Print output to STDOUT\n",
    "n, m = map(int, raw_input().split())\n",
    "arr = map(int, raw_input().split())\n",
    "Aset = set(map(int, raw_input().split()))\n",
    "Bset = set(map(int, raw_input().split()))\n",
    "result = 0\n",
    "for i in arr:\n",
    "    if i in Aset:\n",
    "        result += 1\n",
    "    if i in Bset:\n",
    "        result -= 1\n",
    "        \n",
    "print(result)"
   ]
  },
  {
   "cell_type": "code",
   "execution_count": null,
   "metadata": {
    "collapsed": true
   },
   "outputs": [],
   "source": [
    "# Set.add()\n",
    "# Rupal has a huge collection of country stamps. She decided to count the total number of distinct country stamps \n",
    "# in her collection. She asked for your help. You pick the stamps one by one from a stack of  country stamps.\n",
    "# Find the total number of distinct country stamps.\n",
    "# Enter your code here. Read input from STDIN. Print output to STDOUT\n",
    "n = int(raw_input())\n",
    "countries = set()\n",
    "for i in range(n):\n",
    "    countries.add(raw_input())\n",
    "print(len(countries))\n",
    "    "
   ]
  },
  {
   "cell_type": "code",
   "execution_count": null,
   "metadata": {
    "collapsed": true
   },
   "outputs": [],
   "source": [
    "# Set.discard(), .remove(), .pop()\n",
    "# You have a non-empty set s, and you have to execute N commands given in N lines.\n",
    "# The commands will be pop, remove and discard.\n",
    "n = input()\n",
    "s = set(map(int, raw_input().split())) \n",
    "N = input()\n",
    "for i in range(N):\n",
    "    instruction = raw_input().split()\n",
    "    if instruction[0] == 'remove':\n",
    "        s.remove(int(instruction[1]))\n",
    "    if instruction[0] == 'discard':\n",
    "        s.discard(int(instruction[1]))\n",
    "    if instruction[0] == 'pop':\n",
    "        s.pop()\n",
    "print(sum(s))"
   ]
  },
  {
   "cell_type": "code",
   "execution_count": null,
   "metadata": {
    "collapsed": true
   },
   "outputs": [],
   "source": [
    "# Set.union()\n",
    "# You are given two sets of student roll numbers. One set has subscribed to the English newspaper, and the other set \n",
    "# is subscribed to the French newspaper. The same student could be in both sets. Your task is to find the total number \n",
    "# of students who have subscribed to at least one newspaper.\n",
    "e_num = int(raw_input())\n",
    "english_sub = set(raw_input().split())\n",
    "f_num = int(raw_input())\n",
    "french_sub = set(raw_input().split())\n",
    "print len(english_sub.union(french_sub))\n"
   ]
  },
  {
   "cell_type": "code",
   "execution_count": null,
   "metadata": {
    "collapsed": true
   },
   "outputs": [],
   "source": [
    "# Set.intersection()\n",
    "# You are given two sets of student roll numbers. One set has subscribed to the English newspaper, one set has \n",
    "# subscribed to the French newspaper. Your task is to find the total number of students who have subscribed to \n",
    "# both newspapers.\n",
    "e_num = int(raw_input())\n",
    "english_sub = set(raw_input().split())\n",
    "f_num = int(raw_input())\n",
    "french_sub = set(raw_input().split())\n",
    "print len(english_sub.intersection(french_sub))"
   ]
  },
  {
   "cell_type": "code",
   "execution_count": null,
   "metadata": {
    "collapsed": true
   },
   "outputs": [],
   "source": [
    "# Set.difference()\n",
    "# You are given two sets of student roll numbers. One set has subscribed to the English newspaper, and one set \n",
    "# has subscribed to the French newspaper. Your task is to find the total number of students who have subscribed \n",
    "#to only English newspapers.\n",
    "e_num = int(raw_input())\n",
    "english_sub = set(raw_input().split())\n",
    "f_num = int(raw_input())\n",
    "french_sub = set(raw_input().split())\n",
    "print len(english_sub.difference(french_sub))"
   ]
  },
  {
   "cell_type": "code",
   "execution_count": null,
   "metadata": {
    "collapsed": true
   },
   "outputs": [],
   "source": [
    "# Set.symetric_difference()\n",
    "# You are given two sets of student roll numbers. One set has subscribed to the English newspaper, and one set \n",
    "# has subscribed to the French newspaper. Your task is to find the total number of students who have subscribed \n",
    "# to either the English or the French newspaper but not both.\n",
    "e_num = int(raw_input())\n",
    "english_sub = set(raw_input().split())\n",
    "f_num = int(raw_input())\n",
    "french_sub = set(raw_input().split())\n",
    "print len(english_sub.symmetric_difference(french_sub))"
   ]
  },
  {
   "cell_type": "code",
   "execution_count": null,
   "metadata": {
    "collapsed": true
   },
   "outputs": [],
   "source": [
    "# Set mutations\n",
    "# You are given a set A and N number of other sets. These N number of sets have to perform some specific mutation \n",
    "# operations on set A.\n",
    "# Your task is to execute those operations and print the sum of elements from set A.\n",
    "\n",
    "n_setA = int(raw_input())\n",
    "setA = set(map(int, raw_input().split()))\n",
    "m_setOther = int(raw_input())\n",
    "for i in range(m_setOther):\n",
    "    instruction = raw_input().split()\n",
    "    setOther = set(map(int, raw_input().split()))\n",
    "    if instruction[0] == \"update\":\n",
    "        setA.update(setOther)\n",
    "    if instruction[0] == \"intersection_update\":\n",
    "        setA.intersection_update(setOther)\n",
    "    if instruction[0] == \"symmetric_difference_update\":\n",
    "        setA.symmetric_difference_update(setOther)\n",
    "    if instruction[0] == \"difference_update\":\n",
    "        setA.difference_update(setOther)\n",
    "    #print setA\n",
    "    \n",
    "print sum(setA)\n"
   ]
  },
  {
   "cell_type": "code",
   "execution_count": null,
   "metadata": {
    "collapsed": true
   },
   "outputs": [],
   "source": [
    "# Captain's room\n",
    "k, room_nums = int(raw_input()), map(int, raw_input().split())\n",
    "s_once = set()\n",
    "s_twice = set()\n",
    "for i in room_nums:\n",
    "    if i in s_once:\n",
    "        s_twice.add(i)\n",
    "    else:\n",
    "        s_once.add(i)\n",
    "        \n",
    "s_capitain = s_once.difference(s_twice)\n",
    "print list(s_capitain)[0]"
   ]
  },
  {
   "cell_type": "code",
   "execution_count": null,
   "metadata": {
    "collapsed": true
   },
   "outputs": [],
   "source": [
    "# Check subset\n",
    "for i in range(int(raw_input())): #More than 4 lines will result in 0 score. Blank lines won't be counted.  \n",
    "    a = int(raw_input()); A = set(raw_input().split())\n",
    "    b = int(raw_input()); B = set(raw_input().split())\n",
    "    print A.intersection(B) == A"
   ]
  },
  {
   "cell_type": "code",
   "execution_count": null,
   "metadata": {
    "collapsed": true
   },
   "outputs": [],
   "source": [
    "# Check Strict subset\n",
    "A = set(map(int, raw_input().split()))\n",
    "isSuper = True\n",
    "for i in range(int(raw_input())):\n",
    "    Other = set(map(int, raw_input().split()))\n",
    "    if A.difference(Other) != A.symmetric_difference(Other):\n",
    "        isSuper = False\n",
    "print isSuper\n"
   ]
  },
  {
   "cell_type": "markdown",
   "metadata": {},
   "source": [
    "### Math"
   ]
  },
  {
   "cell_type": "markdown",
   "metadata": {},
   "source": [
    "### Itertools"
   ]
  },
  {
   "cell_type": "markdown",
   "metadata": {},
   "source": [
    "### Collections"
   ]
  },
  {
   "cell_type": "markdown",
   "metadata": {},
   "source": [
    "### Date and Time"
   ]
  },
  {
   "cell_type": "markdown",
   "metadata": {},
   "source": [
    "### Errors and Exceptions"
   ]
  },
  {
   "cell_type": "markdown",
   "metadata": {},
   "source": [
    "### Classes"
   ]
  },
  {
   "cell_type": "markdown",
   "metadata": {},
   "source": [
    "### Built-in"
   ]
  },
  {
   "cell_type": "markdown",
   "metadata": {},
   "source": [
    "### Python Functions"
   ]
  },
  {
   "cell_type": "markdown",
   "metadata": {},
   "source": [
    "### Regex and Parse"
   ]
  },
  {
   "cell_type": "markdown",
   "metadata": {},
   "source": [
    "### XML"
   ]
  },
  {
   "cell_type": "markdown",
   "metadata": {},
   "source": [
    "### Closuress and Decorators"
   ]
  },
  {
   "cell_type": "markdown",
   "metadata": {},
   "source": [
    "### Numpy"
   ]
  }
 ],
 "metadata": {
  "anaconda-cloud": {},
  "kernelspec": {
   "display_name": "Python [default]",
   "language": "python",
   "name": "python2"
  },
  "language_info": {
   "codemirror_mode": {
    "name": "ipython",
    "version": 2
   },
   "file_extension": ".py",
   "mimetype": "text/x-python",
   "name": "python",
   "nbconvert_exporter": "python",
   "pygments_lexer": "ipython2",
   "version": "2.7.12"
  }
 },
 "nbformat": 4,
 "nbformat_minor": 1
}
