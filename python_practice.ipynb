{
 "cells": [
  {
   "cell_type": "markdown",
   "metadata": {},
   "source": [
    "# HackerRank\n",
    "## Practice\n"
   ]
  },
  {
   "cell_type": "markdown",
   "metadata": {},
   "source": [
    "### Intruduction"
   ]
  },
  {
   "cell_type": "code",
   "execution_count": null,
   "metadata": {
    "collapsed": true
   },
   "outputs": [],
   "source": [
    "# Task \n",
    "# Given an integer, , perform the following conditional actions:\n",
    "# If  is odd, print Weird\n",
    "# If  is even and in the inclusive range of  to , print Not Weird\n",
    "# If  is even and in the inclusive range of  to , print Weird\n",
    "# If  is even and greater than , print Not Weird\n",
    "if __name__ == '__main__':\n",
    "    n = int(raw_input())\n",
    "    if n % 2 != 0:\n",
    "        print('Weird')\n",
    "    else:\n",
    "        if n > 20:\n",
    "            print('Not Weird')\n",
    "        elif n >=6:\n",
    "            print('Weird')\n",
    "        elif n >=2:\n",
    "            print('Not Weird')"
   ]
  },
  {
   "cell_type": "code",
   "execution_count": null,
   "metadata": {
    "collapsed": true
   },
   "outputs": [],
   "source": [
    "# Task \n",
    "# Read an integer . For all non-negative integers , print . See the sample for details.\n",
    "if __name__ == '__main__':\n",
    "    n = int(raw_input())\n",
    "    for i in range(n):\n",
    "        print i ** 2\n"
   ]
  },
  {
   "cell_type": "code",
   "execution_count": null,
   "metadata": {
    "collapsed": true
   },
   "outputs": [],
   "source": [
    "# Task \n",
    "# Read two integers and print two lines. The first line should contain integer division,  // . \n",
    "# The second line should contain float division,  / .\n",
    "from __future__ import division\n",
    "if __name__ == '__main__':\n",
    "    a = int(raw_input())\n",
    "    b = int(raw_input())\n",
    "    print a // b\n",
    "    print a / b\n",
    "    "
   ]
  },
  {
   "cell_type": "code",
   "execution_count": null,
   "metadata": {
    "collapsed": true
   },
   "outputs": [],
   "source": [
    "# Task \n",
    "# You are given the year, and you have to write a function to check if the year is leap or not.\n",
    "# Note that you have to complete the function and remaining code is given as template.\n",
    "# The year can be evenly divided by 4, unless;\n",
    "# The year can be evenly divided by 100, it is NOT a leap year, unless;\n",
    "# The year is also evenly divisible by 400. Then it is a leap year.\n",
    "\n",
    "def is_leap(year):\n",
    "    leap = False\n",
    "    \n",
    "    # Write your logic here\n",
    "    #print(year % 4 == 0) \n",
    "    #print(year % 400 == 0)\n",
    "    if (year % 4 == 0) & (year % 100 != 0):\n",
    "        leap = True\n",
    "    if (year % 400 == 0):\n",
    "        leap = True\n",
    "   \n",
    "    return leap\n",
    "\n",
    "#print('self test')\n",
    "#print is_leap(2100)\n",
    "#print('-----')"
   ]
  },
  {
   "cell_type": "code",
   "execution_count": null,
   "metadata": {
    "collapsed": true
   },
   "outputs": [],
   "source": [
    "# Read an integer N\n",
    "# Without using any string methods, try to print the following: 123...N\n",
    "\n",
    "from __future__ import print_function\n",
    "if __name__ == '__main__':\n",
    "    n = int(raw_input())\n",
    "    alist = []\n",
    "    for i in xrange(n):\n",
    "        alist.append(i)\n",
    "    #print(*alist, sep='', file=sys.stdout)\n",
    "    print(*alist, sep='', end='\\n', file=sys.stdout)\n"
   ]
  },
  {
   "cell_type": "markdown",
   "metadata": {},
   "source": [
    "### Data Types"
   ]
  },
  {
   "cell_type": "code",
   "execution_count": null,
   "metadata": {
    "collapsed": true
   },
   "outputs": [],
   "source": [
    "# Lists\n",
    "# Initialize your list and read in the value of  followed by n lines of commands where each command will be of the  \n",
    "# 7 types listed above. Iterate through each command in order and perform the corresponding operation on your list.\n"
   ]
  },
  {
   "cell_type": "code",
   "execution_count": null,
   "metadata": {
    "collapsed": true
   },
   "outputs": [],
   "source": [
    "# Tuples\n",
    "# Given an integer N and  space-separated integers as input, create a tuple t of those  integers. \n",
    "# Then compute and print the result of hash(t).\n",
    "if __name__ == '__main__':\n",
    "    n = int(raw_input())\n",
    "    integer_list = map(int, raw_input().split())\n",
    "    t = tuple(integer_list)\n",
    "    print(hash(t))"
   ]
  },
  {
   "cell_type": "code",
   "execution_count": null,
   "metadata": {
    "collapsed": true
   },
   "outputs": [],
   "source": [
    "# List Comprehensions\n",
    "# You are given three integers X, Y, Z  and  representing the dimensions of a cuboid along with an integer N. \n",
    "# You have to print a list of all possible coordinates given by (i, j, k) on a 3D grid where the sum of i+j+k \n",
    "# is not equal to N. Here 0<=i<=X, 0<=j<=Y, 0<=k<=Z, \n",
    "if __name__ == '__main__':\n",
    "    x = int(raw_input())\n",
    "    y = int(raw_input())\n",
    "    z = int(raw_input())\n",
    "    n = int(raw_input())\n",
    "    print [[i, j, k] for i in range(x+1) for j in range(y+1) for k in range(z+1) if ((i+j+k) != n)]"
   ]
  },
  {
   "cell_type": "code",
   "execution_count": null,
   "metadata": {
    "collapsed": true
   },
   "outputs": [],
   "source": [
    "# Find the second largest number\n",
    "# You are given N numbers. Store them in a list and find the second largest number.\n",
    "if __name__ == '__main__':\n",
    "    n = int(raw_input())\n",
    "    arr = map(int, raw_input().split())\n",
    "    found = False\n",
    "    while not found:\n",
    "        max1 = max(arr)\n",
    "        arr.remove(max1)\n",
    "        #print arr\n",
    "        max2 = max(arr)\n",
    "        if max2 != max1:\n",
    "            found = True\n",
    "    print max2\n",
    "    \n",
    "if __name__ == '__main__':\n",
    "    n = int(raw_input())\n",
    "    arr = map(int, raw_input().split())\n",
    "    arr.sort(reverse=True)\n",
    "    for i in range(n):\n",
    "        if arr[i] != arr[0]:\n",
    "            print arr[i]\n",
    "            break"
   ]
  },
  {
   "cell_type": "code",
   "execution_count": null,
   "metadata": {
    "collapsed": true
   },
   "outputs": [],
   "source": [
    "# Nested List\n",
    "# Given the names and grades for each student in a Physics class of N students, store them in a nested list and \n",
    "# print the name(s) of any student(s) having the second lowest grade.\n",
    "from __future__ import print_function\n",
    "students = []\n",
    "scores = []\n",
    "names_2ndLowestGrade = []\n",
    "for _ in range(int(raw_input())):\n",
    "    name = raw_input()\n",
    "    score = float(raw_input())\n",
    "    students.append([name, score])\n",
    "    scores.append(score)\n",
    "    \n",
    "scores.sort()\n",
    "#print(scores) \n",
    "grade_2ndLowest = 0\n",
    "for i in range(len(scores)):\n",
    "    if scores[i] != scores[0]:\n",
    "        grade_2ndLowest = scores[i]\n",
    "        break\n",
    "        \n",
    "if grade_2ndLowest:\n",
    "    names_2ndLowestGrade = [item[0] for item in students if item[1] == grade_2ndLowest]\n",
    "    names_2ndLowestGrade.sort()\n",
    "    print(*names_2ndLowestGrade, sep='\\n')\n"
   ]
  },
  {
   "cell_type": "code",
   "execution_count": null,
   "metadata": {
    "collapsed": true
   },
   "outputs": [],
   "source": [
    "# Finding the percentage\n",
    "# You have a record of N students. Each record contains the student's name, and their percent marks in Maths, \n",
    "# Physics and Chemistry. The marks can be floating values. The user enters some integer N followed by the names \n",
    "# and marks for N students. You are required to save the record in a dictionary data type. The user then enters a \n",
    "# student's name. Output the average percentage marks obtained by that student, correct to two decimal places.\n",
    "if __name__ == '__main__':\n",
    "    n = int(raw_input())\n",
    "    student_marks = {}\n",
    "    for _ in range(n):\n",
    "        line = raw_input().split()\n",
    "        name, scores = line[0], line[1:]\n",
    "        scores = map(float, scores)\n",
    "        student_marks[name] = scores\n",
    "    query_name = raw_input()\n",
    "    avg = sum(student_marks[query_name]) / 3\n",
    "    print(format(avg, '.2f'))\n"
   ]
  },
  {
   "cell_type": "markdown",
   "metadata": {},
   "source": [
    "### Strings"
   ]
  },
  {
   "cell_type": "code",
   "execution_count": null,
   "metadata": {
    "collapsed": true
   },
   "outputs": [],
   "source": [
    "# sWAP cASE\n",
    "# You are given a string S. Your task is to swap cases. In other words, convert all lowercase letters to \n",
    "# uppercase letters and vice versa.\n",
    "def swap_case(s):\n",
    "    toList = map(str, s)\n",
    "    for i in range(len(toList)):\n",
    "        if toList[i].isupper():\n",
    "            toList[i] = toList[i].lower()\n",
    "        else:\n",
    "            toList[i] = toList[i].upper()\n",
    "    \n",
    "    return ''.join(toList)"
   ]
  },
  {
   "cell_type": "code",
   "execution_count": null,
   "metadata": {
    "collapsed": true
   },
   "outputs": [],
   "source": [
    "# String Split and Join\n",
    "# In Python, a string can be split on a delimiter.\n",
    "def split_and_join(line):\n",
    "    return '-'.join(line.split(' '))"
   ]
  },
  {
   "cell_type": "code",
   "execution_count": null,
   "metadata": {
    "collapsed": true
   },
   "outputs": [],
   "source": [
    "# What's Your Name?\n",
    "# You are given the firstname and lastname of a person on two different lines. Your task is to read them and print the following:\n",
    "# Hello firstname lastname! You just delved into python.\n",
    "\n",
    "def print_full_name(a, b):\n",
    "    print \"Hello \" + a + \" \" + b + \"! You just delved into python.\""
   ]
  },
  {
   "cell_type": "code",
   "execution_count": null,
   "metadata": {
    "collapsed": true
   },
   "outputs": [],
   "source": [
    "# Mutations\n",
    "# Read a given string, change the character at a given index and then print the modified string.\n",
    "def mutate_string(string, position, character):\n",
    "    alist = list(string)\n",
    "    alist[position] = character\n",
    "    return ''.join(alist)"
   ]
  },
  {
   "cell_type": "code",
   "execution_count": null,
   "metadata": {
    "collapsed": true
   },
   "outputs": [],
   "source": [
    "# Find a string\n",
    "# In this challenge, the user enters a string and a substring. You have to print the number of times that the \n",
    "# substring occurs in the given string. String traversal will take place from left to right, not from right to left.\n",
    "\n",
    "def count_substring(string, sub_string):\n",
    "    count = 0\n",
    "    n = len(sub_string)\n",
    "    for i in range(len(string)):\n",
    "        if string[i:n+i] == sub_string:\n",
    "            count += 1\n",
    "    return count"
   ]
  },
  {
   "cell_type": "code",
   "execution_count": null,
   "metadata": {
    "collapsed": true
   },
   "outputs": [],
   "source": [
    "# String Validators\n",
    "# You are given a string S. \n",
    "# Your task is to find out if the string  contains: alphanumeric characters, alphabetical characters, digits, \n",
    "# lowercase and uppercase characters.\n",
    "if __name__ == '__main__':\n",
    "    s = raw_input()\n",
    "    any_alnum = False\n",
    "    any_alpha = False\n",
    "    any_digit = False\n",
    "    any_lower = False\n",
    "    any_upper = False\n",
    "    for i in range(len(s)):\n",
    "        if s[i].isalnum():\n",
    "            any_alnum = True\n",
    "        if s[i].isalpha():\n",
    "            any_alpha = True\n",
    "        if s[i].isdigit():\n",
    "            any_digit = True\n",
    "        if s[i].islower():\n",
    "            any_lower = True\n",
    "        if s[i].isupper():\n",
    "            any_upper = True\n",
    "        \n",
    "    print(any_alnum)\n",
    "    print(any_alpha)\n",
    "    print(any_digit)\n",
    "    print(any_lower)\n",
    "    print(any_upper)\n",
    "    \n",
    "# Other solution\n",
    "str = raw_input()\n",
    "print any(c.isalnum()  for c in str)\n",
    "print any(c.isalpha() for c in str)\n",
    "print any(c.isdigit() for c in str)\n",
    "print any(c.islower() for c in str)\n",
    "print any(c.isupper() for c in str)\n",
    "\n",
    "\n",
    "# another solution\n",
    "for test in ('isalnum', 'isalpha', 'isdigit', 'islower', 'isupper'):\n",
    "        any(eval(\"c.\" + test + \"()\") for c in s)\n",
    "        \n"
   ]
  },
  {
   "cell_type": "code",
   "execution_count": null,
   "metadata": {
    "collapsed": true
   },
   "outputs": [],
   "source": [
    "# Text Alignment\n",
    "# You are given a partial code that is used for generating the HackerRank Logo of variable thickness. \n",
    "# Your task is to replace the blank (______) with rjust, ljust or center.\n",
    "\n",
    "#Replace all ______ with rjust, ljust or center. \n",
    "\n",
    "thickness = int(raw_input()) #This must be an odd number\n",
    "c = 'H'\n",
    "\n",
    "#Top Cone\n",
    "for i in range(thickness):\n",
    "    print (c*i).rjust(thickness-1)+c+(c*i).ljust(thickness-1)\n",
    "\n",
    "#Top Pillars\n",
    "for i in range(thickness+1):\n",
    "    print (c*thickness).center(thickness*2)+(c*thickness).center(thickness*6)\n",
    "\n",
    "#Middle Belt\n",
    "for i in range((thickness+1)/2):\n",
    "    print (c*thickness*5).center(thickness*6)    \n",
    "\n",
    "#Bottom Pillars\n",
    "for i in range(thickness+1):\n",
    "    print (c*thickness).center(thickness*2)+(c*thickness).center(thickness*6)    \n",
    "\n",
    "#Bottom Cone\n",
    "for i in range(thickness):\n",
    "    print ((c*(thickness-i-1)).rjust(thickness)+c+(c*(thickness-i-1)).ljust(thickness)).rjust(thickness*6)    "
   ]
  },
  {
   "cell_type": "code",
   "execution_count": null,
   "metadata": {
    "collapsed": true
   },
   "outputs": [],
   "source": [
    "# Text Wrap\n",
    "# You are given a string S and width w. \n",
    "# Your task is to wrap the string into a paragraph of width w.\n",
    "import textwrap\n",
    "def wrap(string, max_width):\n",
    "    return textwrap.fill(string, max_width)\n"
   ]
  },
  {
   "cell_type": "code",
   "execution_count": null,
   "metadata": {
    "collapsed": true
   },
   "outputs": [],
   "source": [
    "# Designer Door Mat\n",
    "# Mr. Vincent works in a door mat manufacturing company. One day, he designed a new door mat with the following \n",
    "# specifications:\n",
    "# Mat size must be N X M. ( N is an odd natural number, and M is 3 times .)\n",
    "# The design should have 'WELCOME' written in the center.\n",
    "# The design pattern should only use |, . and - characters.\n",
    "N, M = map(int,raw_input().split()) # More than 6 lines of code will result in 0 score. Blank lines are not counted.\n",
    "for i in xrange(1,N,2): \n",
    "    print '-'*((M -1)/2-3*i//2) + '.' + '|..'*(i//2) + '|' + '..|'*(i//2) + '.' + '-'*((M-1)/2-3*i//2)\n",
    "print('-'*((M-7)/2) + 'WELCOME' + '-'*((M-7)/2))\n",
    "for i in xrange(N-2,-1,-2): \n",
    "    print '-'*((M -1)/2-3*i//2) + '.' + '|..'*(i//2) + '|' + '..|'*(i//2) + '.' + '-'*((M-1)/2-3*i//2)\n"
   ]
  },
  {
   "cell_type": "code",
   "execution_count": null,
   "metadata": {
    "collapsed": true
   },
   "outputs": [],
   "source": [
    "# String Formatting\n",
    "from __future__ import print_function\n",
    "def print_formatted(number):\n",
    "    w = len(bin(number)[2:])\n",
    "    #print(oct(8))\n",
    "    for i in xrange(1, number+1):        \n",
    "        print(str(i).rjust(w, ' '), str(oct(i))[1:].rjust(w, ' '), str(hex(i))[2:].upper().rjust(w, ' '), str(bin(i))[2:].rjust(w, ' '), sep=' ', end='\\n')\n",
    "\n",
    "if __name__ == '__main__':\n",
    "    n = int(raw_input())\n",
    "    print_formatted(n)"
   ]
  },
  {
   "cell_type": "markdown",
   "metadata": {},
   "source": [
    "### Sets"
   ]
  },
  {
   "cell_type": "code",
   "execution_count": null,
   "metadata": {
    "collapsed": true
   },
   "outputs": [],
   "source": []
  },
  {
   "cell_type": "code",
   "execution_count": null,
   "metadata": {
    "collapsed": true
   },
   "outputs": [],
   "source": []
  },
  {
   "cell_type": "code",
   "execution_count": null,
   "metadata": {
    "collapsed": true
   },
   "outputs": [],
   "source": []
  },
  {
   "cell_type": "code",
   "execution_count": null,
   "metadata": {
    "collapsed": true
   },
   "outputs": [],
   "source": []
  },
  {
   "cell_type": "code",
   "execution_count": null,
   "metadata": {
    "collapsed": true
   },
   "outputs": [],
   "source": []
  },
  {
   "cell_type": "markdown",
   "metadata": {},
   "source": [
    "### Math"
   ]
  },
  {
   "cell_type": "markdown",
   "metadata": {},
   "source": [
    "### Itertools"
   ]
  },
  {
   "cell_type": "markdown",
   "metadata": {},
   "source": [
    "### Collections"
   ]
  },
  {
   "cell_type": "markdown",
   "metadata": {},
   "source": [
    "### Date and Time"
   ]
  },
  {
   "cell_type": "markdown",
   "metadata": {},
   "source": [
    "### Errors and Exceptions"
   ]
  },
  {
   "cell_type": "markdown",
   "metadata": {},
   "source": [
    "### Classes"
   ]
  },
  {
   "cell_type": "markdown",
   "metadata": {},
   "source": [
    "### Built-in"
   ]
  },
  {
   "cell_type": "markdown",
   "metadata": {},
   "source": [
    "### Python Functions"
   ]
  },
  {
   "cell_type": "markdown",
   "metadata": {},
   "source": [
    "### Regex and Parse"
   ]
  },
  {
   "cell_type": "markdown",
   "metadata": {},
   "source": [
    "### XML"
   ]
  },
  {
   "cell_type": "markdown",
   "metadata": {},
   "source": [
    "### Closuress and Decorators"
   ]
  },
  {
   "cell_type": "markdown",
   "metadata": {},
   "source": [
    "### Numpy"
   ]
  }
 ],
 "metadata": {
  "anaconda-cloud": {},
  "kernelspec": {
   "display_name": "Python [default]",
   "language": "python",
   "name": "python2"
  },
  "language_info": {
   "codemirror_mode": {
    "name": "ipython",
    "version": 2
   },
   "file_extension": ".py",
   "mimetype": "text/x-python",
   "name": "python",
   "nbconvert_exporter": "python",
   "pygments_lexer": "ipython2",
   "version": "2.7.12"
  }
 },
 "nbformat": 4,
 "nbformat_minor": 1
}
